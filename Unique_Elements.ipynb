{
 "cells": [
  {
   "cell_type": "code",
   "execution_count": 1,
   "id": "ec8afe88",
   "metadata": {},
   "outputs": [],
   "source": [
    "a=[10,20,30,45,85,10,20,30,85,45,97]"
   ]
  },
  {
   "cell_type": "code",
   "execution_count": 3,
   "id": "46aef407",
   "metadata": {},
   "outputs": [],
   "source": [
    "dup_items=set()\n",
    "uniq_items=[]\n",
    "for x in a:\n",
    "    if x not in dup_items:\n",
    "        \n",
    "        uniq_items.append(x)\n",
    "        dup_items.add(x)"
   ]
  },
  {
   "cell_type": "code",
   "execution_count": 4,
   "id": "2cd31a9e",
   "metadata": {},
   "outputs": [
    {
     "name": "stdout",
     "output_type": "stream",
     "text": [
      "{97, 10, 45, 20, 85, 30}\n"
     ]
    }
   ],
   "source": [
    "print(dup_items)"
   ]
  },
  {
   "cell_type": "code",
   "execution_count": 5,
   "id": "491a2a81",
   "metadata": {},
   "outputs": [
    {
     "name": "stdout",
     "output_type": "stream",
     "text": [
      "[10, 20, 30, 45, 85, 97]\n"
     ]
    }
   ],
   "source": [
    "print(uniq_items)"
   ]
  },
  {
   "cell_type": "code",
   "execution_count": null,
   "id": "e85b7250",
   "metadata": {},
   "outputs": [],
   "source": []
  }
 ],
 "metadata": {
  "kernelspec": {
   "display_name": "Python 3 (ipykernel)",
   "language": "python",
   "name": "python3"
  },
  "language_info": {
   "codemirror_mode": {
    "name": "ipython",
    "version": 3
   },
   "file_extension": ".py",
   "mimetype": "text/x-python",
   "name": "python",
   "nbconvert_exporter": "python",
   "pygments_lexer": "ipython3",
   "version": "3.9.7"
  }
 },
 "nbformat": 4,
 "nbformat_minor": 5
}

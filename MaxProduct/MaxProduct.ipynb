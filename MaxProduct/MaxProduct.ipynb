{
 "cells": [
  {
   "cell_type": "code",
   "execution_count": 72,
   "id": "be2d86e4",
   "metadata": {},
   "outputs": [],
   "source": [
    "A=[-2,-6,-8,-4,5,3,10,-25,32]"
   ]
  },
  {
   "cell_type": "code",
   "execution_count": 73,
   "id": "0795c8bf",
   "metadata": {},
   "outputs": [],
   "source": [
    "def product(a:list,n):\n",
    "    #print(a)\n",
    "    s=sorted(a)\n",
    "    #print(s)\n",
    "    b=s[0:n]\n",
    "    for i in range(len(b)):\n",
    "        s.append(b[i])\n",
    "    max=0\n",
    "    #print(s)\n",
    "    for i in range(0,len(s)-n):\n",
    "        mul=1\n",
    "        for j in range(i,i+n):\n",
    "            #print(j)\n",
    "            mul=mul*s[j]\n",
    "        if max<mul:\n",
    "            max=mul\n",
    "    return max"
   ]
  },
  {
   "cell_type": "code",
   "execution_count": 74,
   "id": "802fb3bb",
   "metadata": {},
   "outputs": [
    {
     "data": {
      "text/plain": [
       "23040000"
      ]
     },
     "execution_count": 74,
     "metadata": {},
     "output_type": "execute_result"
    }
   ],
   "source": [
    "product(A,8)"
   ]
  },
  {
   "cell_type": "code",
   "execution_count": 75,
   "id": "27869a60",
   "metadata": {},
   "outputs": [
    {
     "data": {
      "text/plain": [
       "6400"
      ]
     },
     "execution_count": 75,
     "metadata": {},
     "output_type": "execute_result"
    }
   ],
   "source": [
    "product(A,3)"
   ]
  },
  {
   "cell_type": "code",
   "execution_count": 76,
   "id": "8106ead3",
   "metadata": {},
   "outputs": [
    {
     "data": {
      "text/plain": [
       "320000"
      ]
     },
     "execution_count": 76,
     "metadata": {},
     "output_type": "execute_result"
    }
   ],
   "source": [
    "product(A,5)"
   ]
  },
  {
   "cell_type": "code",
   "execution_count": null,
   "id": "28edccc8",
   "metadata": {},
   "outputs": [],
   "source": []
  }
 ],
 "metadata": {
  "kernelspec": {
   "display_name": "Python 3 (ipykernel)",
   "language": "python",
   "name": "python3"
  },
  "language_info": {
   "codemirror_mode": {
    "name": "ipython",
    "version": 3
   },
   "file_extension": ".py",
   "mimetype": "text/x-python",
   "name": "python",
   "nbconvert_exporter": "python",
   "pygments_lexer": "ipython3",
   "version": "3.9.7"
  }
 },
 "nbformat": 4,
 "nbformat_minor": 5
}

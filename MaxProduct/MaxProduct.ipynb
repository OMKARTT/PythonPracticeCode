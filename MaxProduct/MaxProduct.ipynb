{
 "cells": [
  {
   "cell_type": "code",
   "execution_count": 1,
   "id": "9119fa8e",
   "metadata": {},
   "outputs": [],
   "source": [
    "def max_prod(a:list):\n",
    "    a = sorted(a)\n",
    "    print(a)\n",
    "    tail = a[0] * a[1] * a[-1]\n",
    "    print(tail)\n",
    "    head = a[-1] * a[-2] * a[-3]\n",
    "    print(head)\n",
    "    return max(tail, head)"
   ]
  },
  {
   "cell_type": "code",
   "execution_count": 2,
   "id": "9eaaa706",
   "metadata": {},
   "outputs": [],
   "source": [
    "A=[-2,4,5,3]"
   ]
  },
  {
   "cell_type": "code",
   "execution_count": 3,
   "id": "82a703fb",
   "metadata": {},
   "outputs": [
    {
     "name": "stdout",
     "output_type": "stream",
     "text": [
      "[-2, 3, 4, 5]\n",
      "-30\n",
      "60\n"
     ]
    },
    {
     "data": {
      "text/plain": [
       "60"
      ]
     },
     "execution_count": 3,
     "metadata": {},
     "output_type": "execute_result"
    }
   ],
   "source": [
    "max_prod(A)"
   ]
  },
  {
   "cell_type": "code",
   "execution_count": null,
   "id": "3802e479",
   "metadata": {},
   "outputs": [],
   "source": []
  }
 ],
 "metadata": {
  "kernelspec": {
   "display_name": "Python 3 (ipykernel)",
   "language": "python",
   "name": "python3"
  },
  "language_info": {
   "codemirror_mode": {
    "name": "ipython",
    "version": 3
   },
   "file_extension": ".py",
   "mimetype": "text/x-python",
   "name": "python",
   "nbconvert_exporter": "python",
   "pygments_lexer": "ipython3",
   "version": "3.9.7"
  }
 },
 "nbformat": 4,
 "nbformat_minor": 5
}

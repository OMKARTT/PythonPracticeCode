{
 "cells": [
  {
   "cell_type": "code",
   "execution_count": 39,
   "id": "21f12523",
   "metadata": {},
   "outputs": [],
   "source": [
    "def max_prod(a:list):\n",
    "    a = sorted(a)\n",
    "    print(a)\n",
    "    tail = a[0] * a[1] * a[-1]\n",
    "    #print(tail)\n",
    "    head = a[-1] * a[-2] * a[-3]\n",
    "    #print(head)\n",
    "    return max(tail, head)"
   ]
  },
  {
   "cell_type": "code",
   "execution_count": 40,
   "id": "b02addfe",
   "metadata": {},
   "outputs": [],
   "source": [
    "A=[-2,-6,-8,-4,5,3,10,-25,32]"
   ]
  },
  {
   "cell_type": "code",
   "execution_count": 41,
   "id": "2f0bcf42",
   "metadata": {},
   "outputs": [
    {
     "name": "stdout",
     "output_type": "stream",
     "text": [
      "[-25, -8, -6, -4, -2, 3, 5, 10, 32]\n"
     ]
    },
    {
     "data": {
      "text/plain": [
       "6400"
      ]
     },
     "execution_count": 41,
     "metadata": {},
     "output_type": "execute_result"
    }
   ],
   "source": [
    "max_prod(A)"
   ]
  },
  {
   "cell_type": "code",
   "execution_count": null,
   "id": "1a2b4032",
   "metadata": {},
   "outputs": [],
   "source": []
  },
  {
   "cell_type": "markdown",
   "id": "ae9a91b4",
   "metadata": {},
   "source": [
    "# Customise approach"
   ]
  },
  {
   "cell_type": "code",
   "execution_count": 47,
   "id": "8522c430",
   "metadata": {},
   "outputs": [],
   "source": [
    "def tail(a:list,n):\n",
    "    x=a[0]\n",
    "    n=n//2\n",
    "    for i in range(1,n+1):\n",
    "        x=x*a[i]*a[-i]\n",
    "    return x"
   ]
  },
  {
   "cell_type": "code",
   "execution_count": 48,
   "id": "1a1b88a2",
   "metadata": {},
   "outputs": [
    {
     "data": {
      "text/plain": [
       "384"
      ]
     },
     "execution_count": 48,
     "metadata": {},
     "output_type": "execute_result"
    }
   ],
   "source": [
    "tail(A,3)"
   ]
  },
  {
   "cell_type": "code",
   "execution_count": 49,
   "id": "a386c14c",
   "metadata": {},
   "outputs": [],
   "source": [
    "def head(a:list,n):\n",
    "    x=1\n",
    "    for i in range(1,n+1):\n",
    "        x=x*a[-i]\n",
    "    return x"
   ]
  },
  {
   "cell_type": "code",
   "execution_count": 50,
   "id": "f84cb4c6",
   "metadata": {},
   "outputs": [
    {
     "data": {
      "text/plain": [
       "-8000"
      ]
     },
     "execution_count": 50,
     "metadata": {},
     "output_type": "execute_result"
    }
   ],
   "source": [
    "head(A,3)"
   ]
  },
  {
   "cell_type": "code",
   "execution_count": 51,
   "id": "c2f9152a",
   "metadata": {},
   "outputs": [],
   "source": [
    "def max_prod(a:list,n):\n",
    "    a = sorted(a)\n",
    "    print(a)\n",
    "    tailvalue=tail(a,n)\n",
    "    #print(tail)\n",
    "    headvalue=head(a,n)\n",
    "    #print(head)\n",
    "    return max(tailvalue, headvalue)"
   ]
  },
  {
   "cell_type": "code",
   "execution_count": 52,
   "id": "3eebe314",
   "metadata": {},
   "outputs": [
    {
     "name": "stdout",
     "output_type": "stream",
     "text": [
      "[-25, -8, -6, -4, -2, 3, 5, 10, 32]\n"
     ]
    },
    {
     "data": {
      "text/plain": [
       "6400"
      ]
     },
     "execution_count": 52,
     "metadata": {},
     "output_type": "execute_result"
    }
   ],
   "source": [
    "max_prod(A,3)"
   ]
  },
  {
   "cell_type": "code",
   "execution_count": null,
   "id": "b3db386f",
   "metadata": {},
   "outputs": [],
   "source": []
  }
 ],
 "metadata": {
  "kernelspec": {
   "display_name": "Python 3 (ipykernel)",
   "language": "python",
   "name": "python3"
  },
  "language_info": {
   "codemirror_mode": {
    "name": "ipython",
    "version": 3
   },
   "file_extension": ".py",
   "mimetype": "text/x-python",
   "name": "python",
   "nbconvert_exporter": "python",
   "pygments_lexer": "ipython3",
   "version": "3.9.7"
  }
 },
 "nbformat": 4,
 "nbformat_minor": 5
}

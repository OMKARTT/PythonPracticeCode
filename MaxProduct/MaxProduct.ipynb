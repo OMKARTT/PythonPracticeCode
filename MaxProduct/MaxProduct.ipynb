{
 "cells": [
  {
   "cell_type": "code",
   "execution_count": 2,
   "id": "be2d86e4",
   "metadata": {},
   "outputs": [],
   "source": [
    "A=[-2,-6,-8,-4,5,3,10,-25,32]"
   ]
  },
  {
   "cell_type": "code",
   "execution_count": 31,
   "id": "0795c8bf",
   "metadata": {},
   "outputs": [],
   "source": [
    "def product(a:list,n):\n",
    "    #print(a)\n",
    "    \n",
    "    if n<len(a):\n",
    "        s=sorted(a)\n",
    "        #print(s)\n",
    "        b=s[0:n]\n",
    "        for i in range(len(b)):\n",
    "            s.append(b[i])\n",
    "        max=0\n",
    "        #print(s)\n",
    "        for i in range(0,len(s)-n):\n",
    "            mul=1\n",
    "            for j in range(i,i+n):\n",
    "                #print(j)\n",
    "                mul=mul*s[j]\n",
    "            if max<mul:\n",
    "                l=[]\n",
    "                max=mul\n",
    "                for k in range(n):\n",
    "                    l.append(a[k])\n",
    "        print(l)\n",
    "    elif n==len(a):\n",
    "        mul=1\n",
    "        for i in range(len(a)):\n",
    "            mul=mul*a[i]\n",
    "        max=mul\n",
    "    elif n> len(a):\n",
    "        max='Count exceeding number of elements in list'\n",
    "    \n",
    "    return max"
   ]
  },
  {
   "cell_type": "code",
   "execution_count": 32,
   "id": "802fb3bb",
   "metadata": {},
   "outputs": [
    {
     "data": {
      "text/plain": [
       "-46080000"
      ]
     },
     "execution_count": 32,
     "metadata": {},
     "output_type": "execute_result"
    }
   ],
   "source": [
    "product(A,9)"
   ]
  },
  {
   "cell_type": "code",
   "execution_count": 33,
   "id": "27869a60",
   "metadata": {},
   "outputs": [
    {
     "name": "stdout",
     "output_type": "stream",
     "text": [
      "[-2, -6, -8, -2, -6, -8, -2, -6, -8, -2, -6, -8]\n"
     ]
    },
    {
     "data": {
      "text/plain": [
       "6400"
      ]
     },
     "execution_count": 33,
     "metadata": {},
     "output_type": "execute_result"
    }
   ],
   "source": [
    "product(A,3)"
   ]
  },
  {
   "cell_type": "code",
   "execution_count": 24,
   "id": "8106ead3",
   "metadata": {},
   "outputs": [
    {
     "data": {
      "text/plain": [
       "320000"
      ]
     },
     "execution_count": 24,
     "metadata": {},
     "output_type": "execute_result"
    }
   ],
   "source": [
    "product(A,5)"
   ]
  },
  {
   "cell_type": "code",
   "execution_count": 25,
   "id": "28edccc8",
   "metadata": {},
   "outputs": [
    {
     "name": "stdout",
     "output_type": "stream",
     "text": [
      "Count exceeding number of elements in list\n"
     ]
    },
    {
     "data": {
      "text/plain": [
       "'Count exceeding number of elements in list'"
      ]
     },
     "execution_count": 25,
     "metadata": {},
     "output_type": "execute_result"
    }
   ],
   "source": [
    "product(A,11)"
   ]
  },
  {
   "cell_type": "code",
   "execution_count": null,
   "id": "5ff3f195",
   "metadata": {},
   "outputs": [],
   "source": []
  }
 ],
 "metadata": {
  "kernelspec": {
   "display_name": "Python 3 (ipykernel)",
   "language": "python",
   "name": "python3"
  },
  "language_info": {
   "codemirror_mode": {
    "name": "ipython",
    "version": 3
   },
   "file_extension": ".py",
   "mimetype": "text/x-python",
   "name": "python",
   "nbconvert_exporter": "python",
   "pygments_lexer": "ipython3",
   "version": "3.9.7"
  }
 },
 "nbformat": 4,
 "nbformat_minor": 5
}

{
 "cells": [
  {
   "cell_type": "code",
   "execution_count": 1,
   "id": "21f12523",
   "metadata": {},
   "outputs": [],
   "source": [
    "def max_prod(a:list):\n",
    "    a = sorted(a)\n",
    "    print(a)\n",
    "    tail = a[0] * a[1] * a[-1]\n",
    "    #print(tail)\n",
    "    head = a[-1] * a[-2] * a[-3]\n",
    "    #print(head)\n",
    "    return max(tail, head)"
   ]
  },
  {
   "cell_type": "code",
   "execution_count": 1,
   "id": "b02addfe",
   "metadata": {},
   "outputs": [],
   "source": [
    "A=[-2,-6,-8,-4,5,3,10,-25,32]"
   ]
  },
  {
   "cell_type": "code",
   "execution_count": 3,
   "id": "2f0bcf42",
   "metadata": {},
   "outputs": [
    {
     "name": "stdout",
     "output_type": "stream",
     "text": [
      "[-25, -8, -6, -4, -2, 3, 5, 10, 32]\n"
     ]
    },
    {
     "data": {
      "text/plain": [
       "6400"
      ]
     },
     "execution_count": 3,
     "metadata": {},
     "output_type": "execute_result"
    }
   ],
   "source": [
    "max_prod(A)"
   ]
  },
  {
   "cell_type": "code",
   "execution_count": null,
   "id": "1a2b4032",
   "metadata": {},
   "outputs": [],
   "source": []
  },
  {
   "cell_type": "markdown",
   "id": "ae9a91b4",
   "metadata": {},
   "source": [
    "# Customise approach"
   ]
  },
  {
   "cell_type": "code",
   "execution_count": 2,
   "id": "8522c430",
   "metadata": {},
   "outputs": [],
   "source": [
    "def tail(a:list,n):\n",
    "    x=a[0]\n",
    "    print\n",
    "    n=n//2\n",
    "    for i in range(1,n+1):\n",
    "        x=x*a[i]*a[-i]\n",
    "    return x"
   ]
  },
  {
   "cell_type": "code",
   "execution_count": 3,
   "id": "1a1b88a2",
   "metadata": {},
   "outputs": [
    {
     "data": {
      "text/plain": [
       "76800"
      ]
     },
     "execution_count": 3,
     "metadata": {},
     "output_type": "execute_result"
    }
   ],
   "source": [
    "tail(A,4)"
   ]
  },
  {
   "cell_type": "code",
   "execution_count": 4,
   "id": "a386c14c",
   "metadata": {},
   "outputs": [],
   "source": [
    "def head(a:list,n):\n",
    "    x=1\n",
    "    for i in range(1,n+1):\n",
    "        x=x*a[-i]\n",
    "    return x"
   ]
  },
  {
   "cell_type": "code",
   "execution_count": 5,
   "id": "f84cb4c6",
   "metadata": {},
   "outputs": [
    {
     "data": {
      "text/plain": [
       "-24000"
      ]
     },
     "execution_count": 5,
     "metadata": {},
     "output_type": "execute_result"
    }
   ],
   "source": [
    "head(A,4)"
   ]
  },
  {
   "cell_type": "code",
   "execution_count": 6,
   "id": "c2f9152a",
   "metadata": {},
   "outputs": [],
   "source": [
    "def max_prod(a:list,n):\n",
    "    a = sorted(a)\n",
    "    print(a)\n",
    "    tailvalue=tail(a,n)\n",
    "    print(tailvalue)\n",
    "    headvalue=head(a,n)\n",
    "    print(headvalue)\n",
    "    return max(tailvalue, headvalue)"
   ]
  },
  {
   "cell_type": "code",
   "execution_count": 7,
   "id": "3eebe314",
   "metadata": {},
   "outputs": [
    {
     "name": "stdout",
     "output_type": "stream",
     "text": [
      "[-25, -8, -6, -4, -2, 3, 5, 10, 32]\n",
      "-384000\n",
      "-9600\n"
     ]
    },
    {
     "data": {
      "text/plain": [
       "-9600"
      ]
     },
     "execution_count": 7,
     "metadata": {},
     "output_type": "execute_result"
    }
   ],
   "source": [
    "max_prod(A,5)"
   ]
  },
  {
   "cell_type": "markdown",
   "id": "3474c7cd",
   "metadata": {},
   "source": [
    "\n",
    "# Customise approach-2"
   ]
  },
  {
   "cell_type": "markdown",
   "id": "182ed24e",
   "metadata": {},
   "source": [
    "Can take care of even or odd"
   ]
  },
  {
   "cell_type": "code",
   "execution_count": 67,
   "id": "0a4718fb",
   "metadata": {},
   "outputs": [],
   "source": [
    "A=[-2,-6,-8,-4,5,3,10,-25,32]"
   ]
  },
  {
   "cell_type": "code",
   "execution_count": 68,
   "id": "c0c2dbad",
   "metadata": {},
   "outputs": [],
   "source": [
    "def product(a:list,n):\n",
    "    #print(a)\n",
    "    s=sorted(a)\n",
    "    #print(s)\n",
    "    b=s[0:n]\n",
    "    for i in range(len(b)):\n",
    "        s.append(b[i])\n",
    "    max=0\n",
    "    #print(s)\n",
    "    for i in range(0,len(s)-n):\n",
    "        mul=1\n",
    "        for j in range(i,i+n):\n",
    "            #print(j)\n",
    "            mul=mul*s[j]\n",
    "        if max<mul:\n",
    "            max=mul\n",
    "    return max"
   ]
  },
  {
   "cell_type": "code",
   "execution_count": 69,
   "id": "9c4e3a64",
   "metadata": {},
   "outputs": [
    {
     "data": {
      "text/plain": [
       "23040000"
      ]
     },
     "execution_count": 69,
     "metadata": {},
     "output_type": "execute_result"
    }
   ],
   "source": [
    "product(A,8)"
   ]
  },
  {
   "cell_type": "code",
   "execution_count": 70,
   "id": "9126a76c",
   "metadata": {},
   "outputs": [
    {
     "data": {
      "text/plain": [
       "6400"
      ]
     },
     "execution_count": 70,
     "metadata": {},
     "output_type": "execute_result"
    }
   ],
   "source": [
    "product(A,3)"
   ]
  },
  {
   "cell_type": "code",
   "execution_count": 71,
   "id": "8bfc1507",
   "metadata": {},
   "outputs": [
    {
     "data": {
      "text/plain": [
       "320000"
      ]
     },
     "execution_count": 71,
     "metadata": {},
     "output_type": "execute_result"
    }
   ],
   "source": [
    "product(A,5)"
   ]
  },
  {
   "cell_type": "code",
   "execution_count": null,
   "id": "fcffe24d",
   "metadata": {},
   "outputs": [],
   "source": []
  }
 ],
 "metadata": {
  "kernelspec": {
   "display_name": "Python 3 (ipykernel)",
   "language": "python",
   "name": "python3"
  },
  "language_info": {
   "codemirror_mode": {
    "name": "ipython",
    "version": 3
   },
   "file_extension": ".py",
   "mimetype": "text/x-python",
   "name": "python",
   "nbconvert_exporter": "python",
   "pygments_lexer": "ipython3",
   "version": "3.9.7"
  }
 },
 "nbformat": 4,
 "nbformat_minor": 5
}

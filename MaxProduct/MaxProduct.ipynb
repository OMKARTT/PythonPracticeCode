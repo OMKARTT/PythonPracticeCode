{
 "cells": [
  {
   "cell_type": "code",
   "execution_count": 2,
   "id": "be2d86e4",
   "metadata": {},
   "outputs": [],
   "source": [
    "A=[-2,-6,-8,-4,5,3,10,-25,32]"
   ]
  },
  {
   "cell_type": "code",
   "execution_count": 40,
   "id": "0795c8bf",
   "metadata": {},
   "outputs": [],
   "source": [
    "def product(a:list,n):\n",
    "    #print(a)\n",
    "    \n",
    "    if n<len(a):\n",
    "        s=sorted(a)\n",
    "        #print(s)\n",
    "        b=s[0:n]\n",
    "        for i in range(len(b)):\n",
    "            s.append(b[i])\n",
    "        max=0\n",
    "        #print(s)\n",
    "        for i in range(0,len(s)-n):\n",
    "            mul=1\n",
    "            for j in range(i,i+n):\n",
    "                #print(j)\n",
    "                mul=mul*s[j]\n",
    "            if max<mul:\n",
    "                l=[]\n",
    "                max=mul\n",
    "                for k in range(i,i+n):\n",
    "                    l.append(s[k])\n",
    "        print(l)\n",
    "    elif n==len(a):\n",
    "        mul=1\n",
    "        for i in range(len(a)):\n",
    "            mul=mul*a[i]\n",
    "        if mul<0:\n",
    "            max='Product is negative'\n",
    "        else:\n",
    "            max=mul\n",
    "    elif n> len(a):\n",
    "        max='Count exceeding number of elements in list'\n",
    "    \n",
    "    return max"
   ]
  },
  {
   "cell_type": "code",
   "execution_count": 41,
   "id": "802fb3bb",
   "metadata": {},
   "outputs": [
    {
     "data": {
      "text/plain": [
       "'Product is negative'"
      ]
     },
     "execution_count": 41,
     "metadata": {},
     "output_type": "execute_result"
    }
   ],
   "source": [
    "product(A,9)"
   ]
  },
  {
   "cell_type": "code",
   "execution_count": 42,
   "id": "27869a60",
   "metadata": {},
   "outputs": [
    {
     "name": "stdout",
     "output_type": "stream",
     "text": [
      "[32, -25, -8]\n"
     ]
    },
    {
     "data": {
      "text/plain": [
       "6400"
      ]
     },
     "execution_count": 42,
     "metadata": {},
     "output_type": "execute_result"
    }
   ],
   "source": [
    "product(A,3)"
   ]
  },
  {
   "cell_type": "code",
   "execution_count": 43,
   "id": "8106ead3",
   "metadata": {},
   "outputs": [
    {
     "name": "stdout",
     "output_type": "stream",
     "text": [
      "[5, 10, 32, -25, -8]\n"
     ]
    },
    {
     "data": {
      "text/plain": [
       "320000"
      ]
     },
     "execution_count": 43,
     "metadata": {},
     "output_type": "execute_result"
    }
   ],
   "source": [
    "product(A,5)"
   ]
  },
  {
   "cell_type": "code",
   "execution_count": 44,
   "id": "28edccc8",
   "metadata": {},
   "outputs": [
    {
     "data": {
      "text/plain": [
       "'Count exceeding number of elements in list'"
      ]
     },
     "execution_count": 44,
     "metadata": {},
     "output_type": "execute_result"
    }
   ],
   "source": [
    "product(A,11)"
   ]
  },
  {
   "cell_type": "code",
   "execution_count": 45,
   "id": "39e05ed2",
   "metadata": {},
   "outputs": [
    {
     "name": "stdout",
     "output_type": "stream",
     "text": [
      "[32]\n"
     ]
    },
    {
     "data": {
      "text/plain": [
       "32"
      ]
     },
     "execution_count": 45,
     "metadata": {},
     "output_type": "execute_result"
    }
   ],
   "source": [
    "product(A,1)"
   ]
  },
  {
   "cell_type": "code",
   "execution_count": null,
   "id": "0d55b631",
   "metadata": {},
   "outputs": [],
   "source": []
  }
 ],
 "metadata": {
  "kernelspec": {
   "display_name": "Python 3 (ipykernel)",
   "language": "python",
   "name": "python3"
  },
  "language_info": {
   "codemirror_mode": {
    "name": "ipython",
    "version": 3
   },
   "file_extension": ".py",
   "mimetype": "text/x-python",
   "name": "python",
   "nbconvert_exporter": "python",
   "pygments_lexer": "ipython3",
   "version": "3.9.7"
  }
 },
 "nbformat": 4,
 "nbformat_minor": 5
}

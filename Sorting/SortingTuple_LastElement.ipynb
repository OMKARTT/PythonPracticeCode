{
 "cells": [
  {
   "cell_type": "code",
   "execution_count": 4,
   "id": "f9fdc27e",
   "metadata": {},
   "outputs": [
    {
     "name": "stdout",
     "output_type": "stream",
     "text": [
      "[(1, 2), (2, 5), (2, 1), (5, 50)]\n"
     ]
    }
   ],
   "source": [
    "def last(n): return n[0]\n",
    "\n",
    "def sort_list_last(tuples):\n",
    "    return sorted(tuples,key=last)\n",
    "\n",
    "print(sort_list_last([(2,5),(1,2),(5,50),(2,1)]))"
   ]
  },
  {
   "cell_type": "code",
   "execution_count": null,
   "id": "db986d8d",
   "metadata": {},
   "outputs": [],
   "source": []
  }
 ],
 "metadata": {
  "kernelspec": {
   "display_name": "Python 3 (ipykernel)",
   "language": "python",
   "name": "python3"
  },
  "language_info": {
   "codemirror_mode": {
    "name": "ipython",
    "version": 3
   },
   "file_extension": ".py",
   "mimetype": "text/x-python",
   "name": "python",
   "nbconvert_exporter": "python",
   "pygments_lexer": "ipython3",
   "version": "3.9.7"
  }
 },
 "nbformat": 4,
 "nbformat_minor": 5
}

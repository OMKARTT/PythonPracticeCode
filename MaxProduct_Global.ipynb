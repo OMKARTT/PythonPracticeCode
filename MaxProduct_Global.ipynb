{
  "nbformat": 4,
  "nbformat_minor": 0,
  "metadata": {
    "colab": {
      "name": "MaxProduct_Global.ipynb",
      "provenance": [],
      "authorship_tag": "ABX9TyOHCjAAYhXahYW0W1zS4m0L",
      "include_colab_link": true
    },
    "kernelspec": {
      "name": "python3",
      "display_name": "Python 3"
    },
    "language_info": {
      "name": "python"
    }
  },
  "cells": [
    {
      "cell_type": "markdown",
      "metadata": {
        "id": "view-in-github",
        "colab_type": "text"
      },
      "source": [
        "<a href=\"https://colab.research.google.com/github/OMKARTT/PythonPracticeCode/blob/main/MaxProduct_Global.ipynb\" target=\"_parent\"><img src=\"https://colab.research.google.com/assets/colab-badge.svg\" alt=\"Open In Colab\"/></a>"
      ]
    },
    {
      "cell_type": "code",
      "execution_count": 58,
      "metadata": {
        "id": "olHLfjNEe3fw"
      },
      "outputs": [],
      "source": [
        "A=[-2,-6,-8,-4,5,3,10,-25,32,85,-29]"
      ]
    },
    {
      "cell_type": "code",
      "source": [
        "def product(a:list):\n",
        "    #print(a)\n",
        "    n=len(a)\n",
        "    maxProduct=1\n",
        "    max=0\n",
        "    for k in range(1,n):\n",
        "      s=sorted(a)\n",
        "      #print('Sorted list',s)\n",
        "      b=s[0:k]\n",
        "      for i in range(len(b)):\n",
        "          s.append(b[i])\n",
        "      #print('Updated list-',s)\n",
        "      for i in range(0,len(s)-k):\n",
        "          mul=1\n",
        "          for j in range(i,i+k):\n",
        "              #print(j)\n",
        "              mul=mul*s[j]\n",
        "          #print('Product=',mul)\n",
        "          if max<mul:\n",
        "              l=[]\n",
        "              max=mul\n",
        "              for m in range(i,i+k):\n",
        "                  l.append(s[m])\n",
        "      #print('Max product-',max) \n",
        "      #print('List creating max product-',l)\n",
        "      if maxProduct<max:\n",
        "        maxProduct=max\n",
        "        g_l=[]\n",
        "        for p in range(len(l)):\n",
        "          g_l.append(l[p])\n",
        "    print('Global max=',maxProduct)\n",
        "    print('List creating max product-',g_l)\n",
        "    return"
      ],
      "metadata": {
        "id": "XKTiVDuje-ek"
      },
      "execution_count": 59,
      "outputs": []
    },
    {
      "cell_type": "code",
      "source": [
        "product(A)"
      ],
      "metadata": {
        "colab": {
          "base_uri": "https://localhost:8080/"
        },
        "id": "_FpRckGDfBRR",
        "outputId": "ed8c8837-d37b-44c6-ecc4-5128e185e9a1"
      },
      "execution_count": 60,
      "outputs": [
        {
          "output_type": "stream",
          "name": "stdout",
          "text": [
            "Global max= 37862400000\n",
            "List creating max product- [5, 10, 32, 85, -29, -25, -8, -6, -4, -2]\n"
          ]
        }
      ]
    },
    {
      "cell_type": "code",
      "source": [
        ""
      ],
      "metadata": {
        "id": "I_GTHy3efDsi"
      },
      "execution_count": null,
      "outputs": []
    }
  ]
}
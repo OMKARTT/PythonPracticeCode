{
  "nbformat": 4,
  "nbformat_minor": 0,
  "metadata": {
    "colab": {
      "name": "MaxSum.ipynb",
      "provenance": [],
      "authorship_tag": "ABX9TyPdZ0u3rBedc8dsWW9BQ7Hh",
      "include_colab_link": true
    },
    "kernelspec": {
      "name": "python3",
      "display_name": "Python 3"
    },
    "language_info": {
      "name": "python"
    },
    "gpuClass": "standard"
  },
  "cells": [
    {
      "cell_type": "markdown",
      "metadata": {
        "id": "view-in-github",
        "colab_type": "text"
      },
      "source": [
        "<a href=\"https://colab.research.google.com/github/OMKARTT/PythonPracticeCode/blob/main/MaxSum.ipynb\" target=\"_parent\"><img src=\"https://colab.research.google.com/assets/colab-badge.svg\" alt=\"Open In Colab\"/></a>"
      ]
    },
    {
      "cell_type": "code",
      "source": [
        "A=[-2,-6,-8,-4,5,3,10,-25,32,65,23]"
      ],
      "metadata": {
        "id": "zX24NC0g81aC"
      },
      "execution_count": 2,
      "outputs": []
    },
    {
      "cell_type": "code",
      "source": [
        "def sum(a:list):\n",
        "    #print(a)\n",
        "    n=len(a)\n",
        "    global_max=0\n",
        "    count=0\n",
        "    for k in range(1,n+1):\n",
        "      #print( 'Count-',k)\n",
        "      s=sorted(a)\n",
        "      #print(s)\n",
        "      b=s[0:k]\n",
        "      for m in range(len(b)):\n",
        "          s.append(b[m])\n",
        "      #print('Appeneded List-',s)\n",
        "      max=0\n",
        "      for i in range(0,len(s)-k):\n",
        "          totalsum=0\n",
        "          for j in range(i,i+k):\n",
        "              #print(j)\n",
        "              totalsum=totalsum+s[j]\n",
        "          if max<totalsum:\n",
        "              l=[]\n",
        "              max=totalsum\n",
        "              for n in range(i,i+k):\n",
        "                  l.append(s[n])\n",
        "      #print('List having maximum sum',l)\n",
        "      #print('Max Sum-',max)\n",
        "      if global_max<max:\n",
        "        g_l=[]\n",
        "        global_max=max\n",
        "        count=k\n",
        "        for p in range(len(l)):\n",
        "          g_l.append(l[p])    \n",
        "    print('Count-',count)\n",
        "    print('Global Max-',global_max)\n",
        "    print('List having maximum sum-',g_l)\n",
        "    return "
      ],
      "metadata": {
        "id": "D2jG8g8w_czT"
      },
      "execution_count": 17,
      "outputs": []
    },
    {
      "cell_type": "code",
      "source": [
        "sum(A)"
      ],
      "metadata": {
        "colab": {
          "base_uri": "https://localhost:8080/"
        },
        "id": "TkQiAq2yALBl",
        "outputId": "360cc544-29e4-4ca6-d886-b0bd464eca63"
      },
      "execution_count": 18,
      "outputs": [
        {
          "output_type": "stream",
          "name": "stdout",
          "text": [
            "Count- 6\n",
            "Global Max- 138\n",
            "List having maximum sum- [3, 5, 10, 23, 32, 65]\n"
          ]
        }
      ]
    },
    {
      "cell_type": "code",
      "source": [
        ""
      ],
      "metadata": {
        "id": "IP-ENdCjdd2F"
      },
      "execution_count": null,
      "outputs": []
    }
  ]
}
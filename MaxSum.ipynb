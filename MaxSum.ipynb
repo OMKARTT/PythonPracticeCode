{
  "nbformat": 4,
  "nbformat_minor": 0,
  "metadata": {
    "colab": {
      "name": "MaxSum.ipynb",
      "provenance": [],
      "authorship_tag": "ABX9TyM+au0nvICNbf38ipd2qQ9S",
      "include_colab_link": true
    },
    "kernelspec": {
      "name": "python3",
      "display_name": "Python 3"
    },
    "language_info": {
      "name": "python"
    },
    "accelerator": "GPU",
    "gpuClass": "standard"
  },
  "cells": [
    {
      "cell_type": "markdown",
      "metadata": {
        "id": "view-in-github",
        "colab_type": "text"
      },
      "source": [
        "<a href=\"https://colab.research.google.com/github/OMKARTT/PythonPracticeCode/blob/main/MaxSum.ipynb\" target=\"_parent\"><img src=\"https://colab.research.google.com/assets/colab-badge.svg\" alt=\"Open In Colab\"/></a>"
      ]
    },
    {
      "cell_type": "code",
      "source": [
        "A=[-2,-6,-8,-4,5,3,10,-25,32]"
      ],
      "metadata": {
        "id": "zX24NC0g81aC"
      },
      "execution_count": 1,
      "outputs": []
    },
    {
      "cell_type": "code",
      "source": [
        "def sum(a:list):\n",
        "    #print(a)\n",
        "    n=len(a)\n",
        "    for k in range(1,n+1):\n",
        "      print( 'Count-',k)\n",
        "      s=sorted(a)\n",
        "      #print(s)\n",
        "      b=s[0:k]\n",
        "      for m in range(len(b)):\n",
        "          s.append(b[m])\n",
        "      #print('Appeneded List-',s)\n",
        "      max=0\n",
        "      for i in range(0,len(s)-k):\n",
        "          totalsum=0\n",
        "          for j in range(i,i+k):\n",
        "              #print(j)\n",
        "              totalsum=totalsum+s[j]\n",
        "          if max<totalsum:\n",
        "              l=[]\n",
        "              max=totalsum\n",
        "              for n in range(i,i+k):\n",
        "                  l.append(s[n])\n",
        "      print('List having maximum sum',l)\n",
        "      print('Max Sum-',max)\n",
        "    return "
      ],
      "metadata": {
        "id": "D2jG8g8w_czT"
      },
      "execution_count": 29,
      "outputs": []
    },
    {
      "cell_type": "code",
      "source": [
        "sum(A)"
      ],
      "metadata": {
        "colab": {
          "base_uri": "https://localhost:8080/"
        },
        "id": "TkQiAq2yALBl",
        "outputId": "cc6a4373-dc8e-4ce3-d262-543bee9e3d4c"
      },
      "execution_count": 30,
      "outputs": [
        {
          "output_type": "stream",
          "name": "stdout",
          "text": [
            "Count- 1\n",
            "List having maximum sum [32]\n",
            "Max Sum- 32\n",
            "Count- 2\n",
            "List having maximum sum [10, 32]\n",
            "Max Sum- 42\n",
            "Count- 3\n",
            "List having maximum sum [5, 10, 32]\n",
            "Max Sum- 47\n",
            "Count- 4\n",
            "List having maximum sum [3, 5, 10, 32]\n",
            "Max Sum- 50\n",
            "Count- 5\n",
            "List having maximum sum [-2, 3, 5, 10, 32]\n",
            "Max Sum- 48\n",
            "Count- 6\n",
            "List having maximum sum [-4, -2, 3, 5, 10, 32]\n",
            "Max Sum- 44\n",
            "Count- 7\n",
            "List having maximum sum [-6, -4, -2, 3, 5, 10, 32]\n",
            "Max Sum- 38\n",
            "Count- 8\n",
            "List having maximum sum [-8, -6, -4, -2, 3, 5, 10, 32]\n",
            "Max Sum- 30\n",
            "Count- 9\n",
            "List having maximum sum [-25, -8, -6, -4, -2, 3, 5, 10, 32]\n",
            "Max Sum- 5\n"
          ]
        }
      ]
    },
    {
      "cell_type": "code",
      "source": [
        ""
      ],
      "metadata": {
        "id": "Ugk-GmDLAPKm"
      },
      "execution_count": null,
      "outputs": []
    }
  ]
}
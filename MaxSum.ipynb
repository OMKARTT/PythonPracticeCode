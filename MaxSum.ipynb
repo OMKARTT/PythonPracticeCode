{
  "nbformat": 4,
  "nbformat_minor": 0,
  "metadata": {
    "colab": {
      "name": "MaxSum.ipynb",
      "provenance": [],
      "authorship_tag": "ABX9TyOFQ2qEYAS2w5vehlh+fs7U",
      "include_colab_link": true
    },
    "kernelspec": {
      "name": "python3",
      "display_name": "Python 3"
    },
    "language_info": {
      "name": "python"
    },
    "accelerator": "GPU",
    "gpuClass": "standard"
  },
  "cells": [
    {
      "cell_type": "markdown",
      "metadata": {
        "id": "view-in-github",
        "colab_type": "text"
      },
      "source": [
        "<a href=\"https://colab.research.google.com/github/OMKARTT/PythonPracticeCode/blob/main/MaxSum.ipynb\" target=\"_parent\"><img src=\"https://colab.research.google.com/assets/colab-badge.svg\" alt=\"Open In Colab\"/></a>"
      ]
    },
    {
      "cell_type": "code",
      "source": [
        "A=[-2,-6,-8,-4,5,3,10,-25,32]"
      ],
      "metadata": {
        "id": "zX24NC0g81aC"
      },
      "execution_count": 4,
      "outputs": []
    },
    {
      "cell_type": "code",
      "source": [
        "def sum(a:list):\n",
        "    #print(a)\n",
        "    n=len(a)\n",
        "    for i in range(1,n+1):\n",
        "      print(i)\n",
        "      s=sorted(a)\n",
        "        #print(s)\n",
        "      b=s[0:n]\n",
        "      for i in range(len(b)):\n",
        "          s.append(b[i])\n",
        "      max=0\n",
        "        #print(s)\n",
        "      for i in range(0,len(s)-n):\n",
        "          totalsum=0\n",
        "          for j in range(i,i+n):\n",
        "                #print(j)\n",
        "              totalsum=totalsum+s[j]\n",
        "          if max<totalsum:\n",
        "              l=[]\n",
        "              max=totalsum\n",
        "              for k in range(i,i+n):\n",
        "                  l.append(s[k])\n",
        "    print(l)\n",
        "    print(max)\n",
        "    return"
      ],
      "metadata": {
        "id": "D2jG8g8w_czT"
      },
      "execution_count": 24,
      "outputs": []
    },
    {
      "cell_type": "code",
      "source": [
        "sum(A)"
      ],
      "metadata": {
        "colab": {
          "base_uri": "https://localhost:8080/"
        },
        "id": "TkQiAq2yALBl",
        "outputId": "9cd2b120-1811-4b28-da89-1d097d4e5302"
      },
      "execution_count": 25,
      "outputs": [
        {
          "output_type": "stream",
          "name": "stdout",
          "text": [
            "1\n",
            "2\n",
            "3\n",
            "4\n",
            "5\n",
            "6\n",
            "7\n",
            "8\n",
            "9\n",
            "[-25, -8, -6, -4, -2, 3, 5, 10, 32]\n",
            "5\n"
          ]
        }
      ]
    },
    {
      "cell_type": "code",
      "source": [
        ""
      ],
      "metadata": {
        "id": "Ugk-GmDLAPKm"
      },
      "execution_count": null,
      "outputs": []
    }
  ]
}
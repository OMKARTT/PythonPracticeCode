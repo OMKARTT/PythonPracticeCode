{
  "nbformat": 4,
  "nbformat_minor": 0,
  "metadata": {
    "colab": {
      "name": "Copy of Regression Working Code.ipynb",
      "provenance": [],
      "collapsed_sections": [],
      "include_colab_link": true
    },
    "kernelspec": {
      "name": "python3",
      "display_name": "Python 3"
    },
    "language_info": {
      "name": "python"
    }
  },
  "cells": [
    {
      "cell_type": "markdown",
      "metadata": {
        "id": "view-in-github",
        "colab_type": "text"
      },
      "source": [
        "<a href=\"https://colab.research.google.com/github/OMKARTT/PythonPracticeCode/blob/main/Copy_of_Regression_Working_Code.ipynb\" target=\"_parent\"><img src=\"https://colab.research.google.com/assets/colab-badge.svg\" alt=\"Open In Colab\"/></a>"
      ]
    },
    {
      "cell_type": "code",
      "execution_count": 65,
      "metadata": {
        "id": "Hc_AhTIL7oAJ"
      },
      "outputs": [],
      "source": [
        "# Importing required base libraries\n",
        "import pandas as pd\n",
        "import numpy as np"
      ]
    },
    {
      "cell_type": "code",
      "source": [
        "# Loading the dataset by file uploads\n",
        "#hospital_df = pd.read_csv('HospitalCosts.csv')\n",
        "\n",
        "# Loading the dataset through GitHub\n",
        "url = 'https://raw.githubusercontent.com/ShishirIITM/Training_Prog_Dataset/main/GAVS_Datasets/HospitalCosts.csv'\n",
        "hospital_df = pd.read_csv(url)"
      ],
      "metadata": {
        "id": "VAUbL2uq7zC7"
      },
      "execution_count": 66,
      "outputs": []
    },
    {
      "cell_type": "code",
      "source": [
        "# View size of the dataset\n",
        "np.shape(hospital_df)"
      ],
      "metadata": {
        "id": "uCUH6dTg8Z6v",
        "colab": {
          "base_uri": "https://localhost:8080/"
        },
        "outputId": "6f08a22e-31cc-4f94-cc6c-7e67f6f5ec77"
      },
      "execution_count": 67,
      "outputs": [
        {
          "output_type": "execute_result",
          "data": {
            "text/plain": [
              "(500, 6)"
            ]
          },
          "metadata": {},
          "execution_count": 67
        }
      ]
    },
    {
      "cell_type": "code",
      "source": [
        "# View the first five rows of the dataset\n",
        "hospital_df.head()"
      ],
      "metadata": {
        "id": "V5vbKYO78aRT",
        "colab": {
          "base_uri": "https://localhost:8080/",
          "height": 206
        },
        "outputId": "6dfad7c2-bdec-467b-c134-72809ba50011"
      },
      "execution_count": 68,
      "outputs": [
        {
          "output_type": "execute_result",
          "data": {
            "text/plain": [
              "   AGE  FEMALE  LOS  RACE  TOTCHG  APRDRG\n",
              "0   17       1    2   1.0    2660     560\n",
              "1   17       0    2   1.0    1689     753\n",
              "2   17       1    7   1.0   20060     930\n",
              "3   17       1    1   1.0     736     758\n",
              "4   17       1    1   1.0    1194     754"
            ],
            "text/html": [
              "\n",
              "  <div id=\"df-6ae63af7-2f2c-4bad-8125-705f4856aa0d\">\n",
              "    <div class=\"colab-df-container\">\n",
              "      <div>\n",
              "<style scoped>\n",
              "    .dataframe tbody tr th:only-of-type {\n",
              "        vertical-align: middle;\n",
              "    }\n",
              "\n",
              "    .dataframe tbody tr th {\n",
              "        vertical-align: top;\n",
              "    }\n",
              "\n",
              "    .dataframe thead th {\n",
              "        text-align: right;\n",
              "    }\n",
              "</style>\n",
              "<table border=\"1\" class=\"dataframe\">\n",
              "  <thead>\n",
              "    <tr style=\"text-align: right;\">\n",
              "      <th></th>\n",
              "      <th>AGE</th>\n",
              "      <th>FEMALE</th>\n",
              "      <th>LOS</th>\n",
              "      <th>RACE</th>\n",
              "      <th>TOTCHG</th>\n",
              "      <th>APRDRG</th>\n",
              "    </tr>\n",
              "  </thead>\n",
              "  <tbody>\n",
              "    <tr>\n",
              "      <th>0</th>\n",
              "      <td>17</td>\n",
              "      <td>1</td>\n",
              "      <td>2</td>\n",
              "      <td>1.0</td>\n",
              "      <td>2660</td>\n",
              "      <td>560</td>\n",
              "    </tr>\n",
              "    <tr>\n",
              "      <th>1</th>\n",
              "      <td>17</td>\n",
              "      <td>0</td>\n",
              "      <td>2</td>\n",
              "      <td>1.0</td>\n",
              "      <td>1689</td>\n",
              "      <td>753</td>\n",
              "    </tr>\n",
              "    <tr>\n",
              "      <th>2</th>\n",
              "      <td>17</td>\n",
              "      <td>1</td>\n",
              "      <td>7</td>\n",
              "      <td>1.0</td>\n",
              "      <td>20060</td>\n",
              "      <td>930</td>\n",
              "    </tr>\n",
              "    <tr>\n",
              "      <th>3</th>\n",
              "      <td>17</td>\n",
              "      <td>1</td>\n",
              "      <td>1</td>\n",
              "      <td>1.0</td>\n",
              "      <td>736</td>\n",
              "      <td>758</td>\n",
              "    </tr>\n",
              "    <tr>\n",
              "      <th>4</th>\n",
              "      <td>17</td>\n",
              "      <td>1</td>\n",
              "      <td>1</td>\n",
              "      <td>1.0</td>\n",
              "      <td>1194</td>\n",
              "      <td>754</td>\n",
              "    </tr>\n",
              "  </tbody>\n",
              "</table>\n",
              "</div>\n",
              "      <button class=\"colab-df-convert\" onclick=\"convertToInteractive('df-6ae63af7-2f2c-4bad-8125-705f4856aa0d')\"\n",
              "              title=\"Convert this dataframe to an interactive table.\"\n",
              "              style=\"display:none;\">\n",
              "        \n",
              "  <svg xmlns=\"http://www.w3.org/2000/svg\" height=\"24px\"viewBox=\"0 0 24 24\"\n",
              "       width=\"24px\">\n",
              "    <path d=\"M0 0h24v24H0V0z\" fill=\"none\"/>\n",
              "    <path d=\"M18.56 5.44l.94 2.06.94-2.06 2.06-.94-2.06-.94-.94-2.06-.94 2.06-2.06.94zm-11 1L8.5 8.5l.94-2.06 2.06-.94-2.06-.94L8.5 2.5l-.94 2.06-2.06.94zm10 10l.94 2.06.94-2.06 2.06-.94-2.06-.94-.94-2.06-.94 2.06-2.06.94z\"/><path d=\"M17.41 7.96l-1.37-1.37c-.4-.4-.92-.59-1.43-.59-.52 0-1.04.2-1.43.59L10.3 9.45l-7.72 7.72c-.78.78-.78 2.05 0 2.83L4 21.41c.39.39.9.59 1.41.59.51 0 1.02-.2 1.41-.59l7.78-7.78 2.81-2.81c.8-.78.8-2.07 0-2.86zM5.41 20L4 18.59l7.72-7.72 1.47 1.35L5.41 20z\"/>\n",
              "  </svg>\n",
              "      </button>\n",
              "      \n",
              "  <style>\n",
              "    .colab-df-container {\n",
              "      display:flex;\n",
              "      flex-wrap:wrap;\n",
              "      gap: 12px;\n",
              "    }\n",
              "\n",
              "    .colab-df-convert {\n",
              "      background-color: #E8F0FE;\n",
              "      border: none;\n",
              "      border-radius: 50%;\n",
              "      cursor: pointer;\n",
              "      display: none;\n",
              "      fill: #1967D2;\n",
              "      height: 32px;\n",
              "      padding: 0 0 0 0;\n",
              "      width: 32px;\n",
              "    }\n",
              "\n",
              "    .colab-df-convert:hover {\n",
              "      background-color: #E2EBFA;\n",
              "      box-shadow: 0px 1px 2px rgba(60, 64, 67, 0.3), 0px 1px 3px 1px rgba(60, 64, 67, 0.15);\n",
              "      fill: #174EA6;\n",
              "    }\n",
              "\n",
              "    [theme=dark] .colab-df-convert {\n",
              "      background-color: #3B4455;\n",
              "      fill: #D2E3FC;\n",
              "    }\n",
              "\n",
              "    [theme=dark] .colab-df-convert:hover {\n",
              "      background-color: #434B5C;\n",
              "      box-shadow: 0px 1px 3px 1px rgba(0, 0, 0, 0.15);\n",
              "      filter: drop-shadow(0px 1px 2px rgba(0, 0, 0, 0.3));\n",
              "      fill: #FFFFFF;\n",
              "    }\n",
              "  </style>\n",
              "\n",
              "      <script>\n",
              "        const buttonEl =\n",
              "          document.querySelector('#df-6ae63af7-2f2c-4bad-8125-705f4856aa0d button.colab-df-convert');\n",
              "        buttonEl.style.display =\n",
              "          google.colab.kernel.accessAllowed ? 'block' : 'none';\n",
              "\n",
              "        async function convertToInteractive(key) {\n",
              "          const element = document.querySelector('#df-6ae63af7-2f2c-4bad-8125-705f4856aa0d');\n",
              "          const dataTable =\n",
              "            await google.colab.kernel.invokeFunction('convertToInteractive',\n",
              "                                                     [key], {});\n",
              "          if (!dataTable) return;\n",
              "\n",
              "          const docLinkHtml = 'Like what you see? Visit the ' +\n",
              "            '<a target=\"_blank\" href=https://colab.research.google.com/notebooks/data_table.ipynb>data table notebook</a>'\n",
              "            + ' to learn more about interactive tables.';\n",
              "          element.innerHTML = '';\n",
              "          dataTable['output_type'] = 'display_data';\n",
              "          await google.colab.output.renderOutput(dataTable, element);\n",
              "          const docLink = document.createElement('div');\n",
              "          docLink.innerHTML = docLinkHtml;\n",
              "          element.appendChild(docLink);\n",
              "        }\n",
              "      </script>\n",
              "    </div>\n",
              "  </div>\n",
              "  "
            ]
          },
          "metadata": {},
          "execution_count": 68
        }
      ]
    },
    {
      "cell_type": "code",
      "source": [
        "# Checking for missing values in the dataset\n",
        "# Display rows with missing data\n",
        "hospital_df[hospital_df.isnull().any(axis=1)]"
      ],
      "metadata": {
        "id": "suDOPLr-8hdR",
        "colab": {
          "base_uri": "https://localhost:8080/",
          "height": 81
        },
        "outputId": "57d81d3c-e540-4f7f-9bdc-50b8addb77ee"
      },
      "execution_count": 69,
      "outputs": [
        {
          "output_type": "execute_result",
          "data": {
            "text/plain": [
              "     AGE  FEMALE  LOS  RACE  TOTCHG  APRDRG\n",
              "276    0       1    2   NaN    1156     640"
            ],
            "text/html": [
              "\n",
              "  <div id=\"df-38a95d6d-aff9-4125-bf99-750c717e145a\">\n",
              "    <div class=\"colab-df-container\">\n",
              "      <div>\n",
              "<style scoped>\n",
              "    .dataframe tbody tr th:only-of-type {\n",
              "        vertical-align: middle;\n",
              "    }\n",
              "\n",
              "    .dataframe tbody tr th {\n",
              "        vertical-align: top;\n",
              "    }\n",
              "\n",
              "    .dataframe thead th {\n",
              "        text-align: right;\n",
              "    }\n",
              "</style>\n",
              "<table border=\"1\" class=\"dataframe\">\n",
              "  <thead>\n",
              "    <tr style=\"text-align: right;\">\n",
              "      <th></th>\n",
              "      <th>AGE</th>\n",
              "      <th>FEMALE</th>\n",
              "      <th>LOS</th>\n",
              "      <th>RACE</th>\n",
              "      <th>TOTCHG</th>\n",
              "      <th>APRDRG</th>\n",
              "    </tr>\n",
              "  </thead>\n",
              "  <tbody>\n",
              "    <tr>\n",
              "      <th>276</th>\n",
              "      <td>0</td>\n",
              "      <td>1</td>\n",
              "      <td>2</td>\n",
              "      <td>NaN</td>\n",
              "      <td>1156</td>\n",
              "      <td>640</td>\n",
              "    </tr>\n",
              "  </tbody>\n",
              "</table>\n",
              "</div>\n",
              "      <button class=\"colab-df-convert\" onclick=\"convertToInteractive('df-38a95d6d-aff9-4125-bf99-750c717e145a')\"\n",
              "              title=\"Convert this dataframe to an interactive table.\"\n",
              "              style=\"display:none;\">\n",
              "        \n",
              "  <svg xmlns=\"http://www.w3.org/2000/svg\" height=\"24px\"viewBox=\"0 0 24 24\"\n",
              "       width=\"24px\">\n",
              "    <path d=\"M0 0h24v24H0V0z\" fill=\"none\"/>\n",
              "    <path d=\"M18.56 5.44l.94 2.06.94-2.06 2.06-.94-2.06-.94-.94-2.06-.94 2.06-2.06.94zm-11 1L8.5 8.5l.94-2.06 2.06-.94-2.06-.94L8.5 2.5l-.94 2.06-2.06.94zm10 10l.94 2.06.94-2.06 2.06-.94-2.06-.94-.94-2.06-.94 2.06-2.06.94z\"/><path d=\"M17.41 7.96l-1.37-1.37c-.4-.4-.92-.59-1.43-.59-.52 0-1.04.2-1.43.59L10.3 9.45l-7.72 7.72c-.78.78-.78 2.05 0 2.83L4 21.41c.39.39.9.59 1.41.59.51 0 1.02-.2 1.41-.59l7.78-7.78 2.81-2.81c.8-.78.8-2.07 0-2.86zM5.41 20L4 18.59l7.72-7.72 1.47 1.35L5.41 20z\"/>\n",
              "  </svg>\n",
              "      </button>\n",
              "      \n",
              "  <style>\n",
              "    .colab-df-container {\n",
              "      display:flex;\n",
              "      flex-wrap:wrap;\n",
              "      gap: 12px;\n",
              "    }\n",
              "\n",
              "    .colab-df-convert {\n",
              "      background-color: #E8F0FE;\n",
              "      border: none;\n",
              "      border-radius: 50%;\n",
              "      cursor: pointer;\n",
              "      display: none;\n",
              "      fill: #1967D2;\n",
              "      height: 32px;\n",
              "      padding: 0 0 0 0;\n",
              "      width: 32px;\n",
              "    }\n",
              "\n",
              "    .colab-df-convert:hover {\n",
              "      background-color: #E2EBFA;\n",
              "      box-shadow: 0px 1px 2px rgba(60, 64, 67, 0.3), 0px 1px 3px 1px rgba(60, 64, 67, 0.15);\n",
              "      fill: #174EA6;\n",
              "    }\n",
              "\n",
              "    [theme=dark] .colab-df-convert {\n",
              "      background-color: #3B4455;\n",
              "      fill: #D2E3FC;\n",
              "    }\n",
              "\n",
              "    [theme=dark] .colab-df-convert:hover {\n",
              "      background-color: #434B5C;\n",
              "      box-shadow: 0px 1px 3px 1px rgba(0, 0, 0, 0.15);\n",
              "      filter: drop-shadow(0px 1px 2px rgba(0, 0, 0, 0.3));\n",
              "      fill: #FFFFFF;\n",
              "    }\n",
              "  </style>\n",
              "\n",
              "      <script>\n",
              "        const buttonEl =\n",
              "          document.querySelector('#df-38a95d6d-aff9-4125-bf99-750c717e145a button.colab-df-convert');\n",
              "        buttonEl.style.display =\n",
              "          google.colab.kernel.accessAllowed ? 'block' : 'none';\n",
              "\n",
              "        async function convertToInteractive(key) {\n",
              "          const element = document.querySelector('#df-38a95d6d-aff9-4125-bf99-750c717e145a');\n",
              "          const dataTable =\n",
              "            await google.colab.kernel.invokeFunction('convertToInteractive',\n",
              "                                                     [key], {});\n",
              "          if (!dataTable) return;\n",
              "\n",
              "          const docLinkHtml = 'Like what you see? Visit the ' +\n",
              "            '<a target=\"_blank\" href=https://colab.research.google.com/notebooks/data_table.ipynb>data table notebook</a>'\n",
              "            + ' to learn more about interactive tables.';\n",
              "          element.innerHTML = '';\n",
              "          dataTable['output_type'] = 'display_data';\n",
              "          await google.colab.output.renderOutput(dataTable, element);\n",
              "          const docLink = document.createElement('div');\n",
              "          docLink.innerHTML = docLinkHtml;\n",
              "          element.appendChild(docLink);\n",
              "        }\n",
              "      </script>\n",
              "    </div>\n",
              "  </div>\n",
              "  "
            ]
          },
          "metadata": {},
          "execution_count": 69
        }
      ]
    },
    {
      "cell_type": "code",
      "source": [
        "# Dropping the one row with missing value in RACE column\n",
        "hospital_df = hospital_df.dropna()\n",
        "hospital_df.reset_index(inplace=True)\n",
        "print(hospital_df.isnull().sum())"
      ],
      "metadata": {
        "id": "4H_ZVknl82R5",
        "colab": {
          "base_uri": "https://localhost:8080/"
        },
        "outputId": "67d7e1a1-dce6-481f-c2fb-de828fbe8f03"
      },
      "execution_count": 70,
      "outputs": [
        {
          "output_type": "stream",
          "name": "stdout",
          "text": [
            "index     0\n",
            "AGE       0\n",
            "FEMALE    0\n",
            "LOS       0\n",
            "RACE      0\n",
            "TOTCHG    0\n",
            "APRDRG    0\n",
            "dtype: int64\n"
          ]
        }
      ]
    },
    {
      "cell_type": "markdown",
      "source": [
        "# Regression"
      ],
      "metadata": {
        "id": "516G3RakAZYl"
      }
    },
    {
      "cell_type": "markdown",
      "source": [
        "## Simple linear regression"
      ],
      "metadata": {
        "id": "RiQCowtJAbMr"
      }
    },
    {
      "cell_type": "markdown",
      "source": [
        "Let us see the relationship between **age** and the **hospital stay cost** with the help of a scatter plot."
      ],
      "metadata": {
        "id": "IQ8dcWuoAdIS"
      }
    },
    {
      "cell_type": "code",
      "source": [
        "import matplotlib.pyplot as plt"
      ],
      "metadata": {
        "id": "9BB81Aj1AmVZ"
      },
      "execution_count": 71,
      "outputs": []
    },
    {
      "cell_type": "code",
      "source": [
        "plt.scatter(hospital_df.AGE, hospital_df.TOTCHG)\n",
        "plt.xlabel('age of patient')\n",
        "plt.ylabel('hospital cost')\n",
        "plt.title('Relation between length of stay and hospital cost incurred')\n",
        "plt.show()"
      ],
      "metadata": {
        "id": "T4kw9lcdA1r5",
        "colab": {
          "base_uri": "https://localhost:8080/",
          "height": 295
        },
        "outputId": "585f79a9-f5fa-4cc3-dec4-a5e04205b914"
      },
      "execution_count": 72,
      "outputs": [
        {
          "output_type": "display_data",
          "data": {
            "text/plain": [
              "<Figure size 432x288 with 1 Axes>"
            ],
            "image/png": "[encoded data removed]"
          },
          "metadata": {
            "needs_background": "light"
          }
        }
      ]
    },
    {
      "cell_type": "code",
      "source": [
        "plt.scatter(hospital_df.APRDRG,hospital_df.TOTCHG)\n",
        "plt.xlabel('aprdrg')\n",
        "plt.ylabel('hospital cost')\n",
        "plt.title('Relation between aprdrg and hospital cost incurred')\n",
        "plt.show()"
      ],
      "metadata": {
        "id": "ph2RdBzasmJu",
        "colab": {
          "base_uri": "https://localhost:8080/",
          "height": 295
        },
        "outputId": "82e76530-9842-4be8-b3e8-bf1bdc5aadce"
      },
      "execution_count": 73,
      "outputs": [
        {
          "output_type": "display_data",
          "data": {
            "text/plain": [
              "<Figure size 432x288 with 1 Axes>"
            ],
            "image/png": "[encoded data removed]"
          },
          "metadata": {
            "needs_background": "light"
          }
        }
      ]
    },
    {
      "cell_type": "code",
      "source": [
        "plt.scatter(hospital_df.LOS,hospital_df.TOTCHG)\n",
        "plt.xlabel('los')\n",
        "plt.ylabel('hospital cost')\n",
        "plt.title('Relation between length of stay and hospital cost incurred')\n",
        "plt.show()"
      ],
      "metadata": {
        "id": "CaEj4lV2smNR",
        "colab": {
          "base_uri": "https://localhost:8080/",
          "height": 295
        },
        "outputId": "f9133264-0cde-4f6d-abe0-f3249954d2f5"
      },
      "execution_count": 74,
      "outputs": [
        {
          "output_type": "display_data",
          "data": {
            "text/plain": [
              "<Figure size 432x288 with 1 Axes>"
            ],
            "image/png": "[encoded data removed]"
          },
          "metadata": {
            "needs_background": "light"
          }
        }
      ]
    },
    {
      "cell_type": "code",
      "source": [
        "import seaborn as sns\n",
        "\n",
        "sns.pairplot(hospital_df)"
      ],
      "metadata": {
        "colab": {
          "base_uri": "https://localhost:8080/",
          "height": 839
        },
        "id": "EA60-4aVUpxc",
        "outputId": "2dbeff9d-a8ae-4b48-c71d-152abb439f4b"
      },
      "execution_count": 75,
      "outputs": [
        {
          "output_type": "execute_result",
          "data": {
            "text/plain": [
              "<seaborn.axisgrid.PairGrid at 0x7f44ab6363d0>"
            ]
          },
          "metadata": {},
          "execution_count": 75
        },
        {
          "output_type": "display_data",
          "data": {
            "text/plain": [
              "<Figure size 1260x1260 with 56 Axes>"
            ],
            "image/png": "[encoded data removed]"
          },
          "metadata": {
            "needs_background": "light"
          }
        }
      ]
    },
    {
      "cell_type": "markdown",
      "source": [
        "Build a linear regression model with age as independent variable and Hospital cost as dependent variable  \n"
      ],
      "metadata": {
        "id": "qOyBaCrJJizI"
      }
    },
    {
      "cell_type": "code",
      "source": [
        "from sklearn.linear_model import LinearRegression\n",
        "from sklearn.model_selection import train_test_split"
      ],
      "metadata": {
        "id": "RLAKPa_wJPQs"
      },
      "execution_count": 76,
      "outputs": []
    },
    {
      "cell_type": "code",
      "source": [
        "X =hospital_df[['AGE']] \n",
        "y = hospital_df[['TOTCHG']]\n",
        "print(X)\n",
        "print(y)"
      ],
      "metadata": {
        "id": "TiygKy2wJ5uW",
        "colab": {
          "base_uri": "https://localhost:8080/"
        },
        "outputId": "d7bdb8c5-5906-42e6-b374-eb0e36acc408"
      },
      "execution_count": 77,
      "outputs": [
        {
          "output_type": "stream",
          "name": "stdout",
          "text": [
            "     AGE\n",
            "0     17\n",
            "1     17\n",
            "2     17\n",
            "3     17\n",
            "4     17\n",
            "..   ...\n",
            "494    0\n",
            "495    0\n",
            "496    0\n",
            "497    0\n",
            "498    0\n",
            "\n",
            "[499 rows x 1 columns]\n",
            "     TOTCHG\n",
            "0      2660\n",
            "1      1689\n",
            "2     20060\n",
            "3       736\n",
            "4      1194\n",
            "..      ...\n",
            "494    5881\n",
            "495    1171\n",
            "496    1171\n",
            "497    1086\n",
            "498    4931\n",
            "\n",
            "[499 rows x 1 columns]\n"
          ]
        }
      ]
    },
    {
      "cell_type": "code",
      "source": [
        "# In order to train a model, we take just 80% of the entire data available. \n",
        "# The other 20% will later be used for testing the built model.\n",
        "X_train, X_test, y_train, y_test = train_test_split(X,y,test_size=0.2,train_size=0.8,random_state=100)\n"
      ],
      "metadata": {
        "id": "2_E8d2ejRwaj"
      },
      "execution_count": 78,
      "outputs": []
    },
    {
      "cell_type": "code",
      "source": [
        "X_train"
      ],
      "metadata": {
        "id": "PiWyVHs4SkHa",
        "colab": {
          "base_uri": "https://localhost:8080/",
          "height": 424
        },
        "outputId": "6c2a4fb6-4d1d-48a1-d761-c429c8167212"
      },
      "execution_count": 79,
      "outputs": [
        {
          "output_type": "execute_result",
          "data": {
            "text/plain": [
              "     AGE\n",
              "205   17\n",
              "445    0\n",
              "321   10\n",
              "368   16\n",
              "55     1\n",
              "..   ...\n",
              "343   16\n",
              "359    0\n",
              "323    8\n",
              "280    0\n",
              "8     16\n",
              "\n",
              "[399 rows x 1 columns]"
            ],
            "text/html": [
              "\n",
              "  <div id=\"df-b250c026-a8c5-4bb5-a6ba-097da130d224\">\n",
              "    <div class=\"colab-df-container\">\n",
              "      <div>\n",
              "<style scoped>\n",
              "    .dataframe tbody tr th:only-of-type {\n",
              "        vertical-align: middle;\n",
              "    }\n",
              "\n",
              "    .dataframe tbody tr th {\n",
              "        vertical-align: top;\n",
              "    }\n",
              "\n",
              "    .dataframe thead th {\n",
              "        text-align: right;\n",
              "    }\n",
              "</style>\n",
              "<table border=\"1\" class=\"dataframe\">\n",
              "  <thead>\n",
              "    <tr style=\"text-align: right;\">\n",
              "      <th></th>\n",
              "      <th>AGE</th>\n",
              "    </tr>\n",
              "  </thead>\n",
              "  <tbody>\n",
              "    <tr>\n",
              "      <th>205</th>\n",
              "      <td>17</td>\n",
              "    </tr>\n",
              "    <tr>\n",
              "      <th>445</th>\n",
              "      <td>0</td>\n",
              "    </tr>\n",
              "    <tr>\n",
              "      <th>321</th>\n",
              "      <td>10</td>\n",
              "    </tr>\n",
              "    <tr>\n",
              "      <th>368</th>\n",
              "      <td>16</td>\n",
              "    </tr>\n",
              "    <tr>\n",
              "      <th>55</th>\n",
              "      <td>1</td>\n",
              "    </tr>\n",
              "    <tr>\n",
              "      <th>...</th>\n",
              "      <td>...</td>\n",
              "    </tr>\n",
              "    <tr>\n",
              "      <th>343</th>\n",
              "      <td>16</td>\n",
              "    </tr>\n",
              "    <tr>\n",
              "      <th>359</th>\n",
              "      <td>0</td>\n",
              "    </tr>\n",
              "    <tr>\n",
              "      <th>323</th>\n",
              "      <td>8</td>\n",
              "    </tr>\n",
              "    <tr>\n",
              "      <th>280</th>\n",
              "      <td>0</td>\n",
              "    </tr>\n",
              "    <tr>\n",
              "      <th>8</th>\n",
              "      <td>16</td>\n",
              "    </tr>\n",
              "  </tbody>\n",
              "</table>\n",
              "<p>399 rows × 1 columns</p>\n",
              "</div>\n",
              "      <button class=\"colab-df-convert\" onclick=\"convertToInteractive('df-b250c026-a8c5-4bb5-a6ba-097da130d224')\"\n",
              "              title=\"Convert this dataframe to an interactive table.\"\n",
              "              style=\"display:none;\">\n",
              "        \n",
              "  <svg xmlns=\"http://www.w3.org/2000/svg\" height=\"24px\"viewBox=\"0 0 24 24\"\n",
              "       width=\"24px\">\n",
              "    <path d=\"M0 0h24v24H0V0z\" fill=\"none\"/>\n",
              "    <path d=\"M18.56 5.44l.94 2.06.94-2.06 2.06-.94-2.06-.94-.94-2.06-.94 2.06-2.06.94zm-11 1L8.5 8.5l.94-2.06 2.06-.94-2.06-.94L8.5 2.5l-.94 2.06-2.06.94zm10 10l.94 2.06.94-2.06 2.06-.94-2.06-.94-.94-2.06-.94 2.06-2.06.94z\"/><path d=\"M17.41 7.96l-1.37-1.37c-.4-.4-.92-.59-1.43-.59-.52 0-1.04.2-1.43.59L10.3 9.45l-7.72 7.72c-.78.78-.78 2.05 0 2.83L4 21.41c.39.39.9.59 1.41.59.51 0 1.02-.2 1.41-.59l7.78-7.78 2.81-2.81c.8-.78.8-2.07 0-2.86zM5.41 20L4 18.59l7.72-7.72 1.47 1.35L5.41 20z\"/>\n",
              "  </svg>\n",
              "      </button>\n",
              "      \n",
              "  <style>\n",
              "    .colab-df-container {\n",
              "      display:flex;\n",
              "      flex-wrap:wrap;\n",
              "      gap: 12px;\n",
              "    }\n",
              "\n",
              "    .colab-df-convert {\n",
              "      background-color: #E8F0FE;\n",
              "      border: none;\n",
              "      border-radius: 50%;\n",
              "      cursor: pointer;\n",
              "      display: none;\n",
              "      fill: #1967D2;\n",
              "      height: 32px;\n",
              "      padding: 0 0 0 0;\n",
              "      width: 32px;\n",
              "    }\n",
              "\n",
              "    .colab-df-convert:hover {\n",
              "      background-color: #E2EBFA;\n",
              "      box-shadow: 0px 1px 2px rgba(60, 64, 67, 0.3), 0px 1px 3px 1px rgba(60, 64, 67, 0.15);\n",
              "      fill: #174EA6;\n",
              "    }\n",
              "\n",
              "    [theme=dark] .colab-df-convert {\n",
              "      background-color: #3B4455;\n",
              "      fill: #D2E3FC;\n",
              "    }\n",
              "\n",
              "    [theme=dark] .colab-df-convert:hover {\n",
              "      background-color: #434B5C;\n",
              "      box-shadow: 0px 1px 3px 1px rgba(0, 0, 0, 0.15);\n",
              "      filter: drop-shadow(0px 1px 2px rgba(0, 0, 0, 0.3));\n",
              "      fill: #FFFFFF;\n",
              "    }\n",
              "  </style>\n",
              "\n",
              "      <script>\n",
              "        const buttonEl =\n",
              "          document.querySelector('#df-b250c026-a8c5-4bb5-a6ba-097da130d224 button.colab-df-convert');\n",
              "        buttonEl.style.display =\n",
              "          google.colab.kernel.accessAllowed ? 'block' : 'none';\n",
              "\n",
              "        async function convertToInteractive(key) {\n",
              "          const element = document.querySelector('#df-b250c026-a8c5-4bb5-a6ba-097da130d224');\n",
              "          const dataTable =\n",
              "            await google.colab.kernel.invokeFunction('convertToInteractive',\n",
              "                                                     [key], {});\n",
              "          if (!dataTable) return;\n",
              "\n",
              "          const docLinkHtml = 'Like what you see? Visit the ' +\n",
              "            '<a target=\"_blank\" href=https://colab.research.google.com/notebooks/data_table.ipynb>data table notebook</a>'\n",
              "            + ' to learn more about interactive tables.';\n",
              "          element.innerHTML = '';\n",
              "          dataTable['output_type'] = 'display_data';\n",
              "          await google.colab.output.renderOutput(dataTable, element);\n",
              "          const docLink = document.createElement('div');\n",
              "          docLink.innerHTML = docLinkHtml;\n",
              "          element.appendChild(docLink);\n",
              "        }\n",
              "      </script>\n",
              "    </div>\n",
              "  </div>\n",
              "  "
            ]
          },
          "metadata": {},
          "execution_count": 79
        }
      ]
    },
    {
      "cell_type": "code",
      "source": [
        "y_train"
      ],
      "metadata": {
        "id": "FX6YKuDqSk4N",
        "colab": {
          "base_uri": "https://localhost:8080/",
          "height": 424
        },
        "outputId": "d3005486-888e-4764-b7f4-526e9a665996"
      },
      "execution_count": 80,
      "outputs": [
        {
          "output_type": "execute_result",
          "data": {
            "text/plain": [
              "     TOTCHG\n",
              "205    3315\n",
              "445    1120\n",
              "321   17524\n",
              "368    2238\n",
              "55     9606\n",
              "..      ...\n",
              "343    1422\n",
              "359    1097\n",
              "323    3588\n",
              "280    2724\n",
              "8       532\n",
              "\n",
              "[399 rows x 1 columns]"
            ],
            "text/html": [
              "\n",
              "  <div id=\"df-f641b4d5-6578-427b-8716-7f06ecfd478a\">\n",
              "    <div class=\"colab-df-container\">\n",
              "      <div>\n",
              "<style scoped>\n",
              "    .dataframe tbody tr th:only-of-type {\n",
              "        vertical-align: middle;\n",
              "    }\n",
              "\n",
              "    .dataframe tbody tr th {\n",
              "        vertical-align: top;\n",
              "    }\n",
              "\n",
              "    .dataframe thead th {\n",
              "        text-align: right;\n",
              "    }\n",
              "</style>\n",
              "<table border=\"1\" class=\"dataframe\">\n",
              "  <thead>\n",
              "    <tr style=\"text-align: right;\">\n",
              "      <th></th>\n",
              "      <th>TOTCHG</th>\n",
              "    </tr>\n",
              "  </thead>\n",
              "  <tbody>\n",
              "    <tr>\n",
              "      <th>205</th>\n",
              "      <td>3315</td>\n",
              "    </tr>\n",
              "    <tr>\n",
              "      <th>445</th>\n",
              "      <td>1120</td>\n",
              "    </tr>\n",
              "    <tr>\n",
              "      <th>321</th>\n",
              "      <td>17524</td>\n",
              "    </tr>\n",
              "    <tr>\n",
              "      <th>368</th>\n",
              "      <td>2238</td>\n",
              "    </tr>\n",
              "    <tr>\n",
              "      <th>55</th>\n",
              "      <td>9606</td>\n",
              "    </tr>\n",
              "    <tr>\n",
              "      <th>...</th>\n",
              "      <td>...</td>\n",
              "    </tr>\n",
              "    <tr>\n",
              "      <th>343</th>\n",
              "      <td>1422</td>\n",
              "    </tr>\n",
              "    <tr>\n",
              "      <th>359</th>\n",
              "      <td>1097</td>\n",
              "    </tr>\n",
              "    <tr>\n",
              "      <th>323</th>\n",
              "      <td>3588</td>\n",
              "    </tr>\n",
              "    <tr>\n",
              "      <th>280</th>\n",
              "      <td>2724</td>\n",
              "    </tr>\n",
              "    <tr>\n",
              "      <th>8</th>\n",
              "      <td>532</td>\n",
              "    </tr>\n",
              "  </tbody>\n",
              "</table>\n",
              "<p>399 rows × 1 columns</p>\n",
              "</div>\n",
              "      <button class=\"colab-df-convert\" onclick=\"convertToInteractive('df-f641b4d5-6578-427b-8716-7f06ecfd478a')\"\n",
              "              title=\"Convert this dataframe to an interactive table.\"\n",
              "              style=\"display:none;\">\n",
              "        \n",
              "  <svg xmlns=\"http://www.w3.org/2000/svg\" height=\"24px\"viewBox=\"0 0 24 24\"\n",
              "       width=\"24px\">\n",
              "    <path d=\"M0 0h24v24H0V0z\" fill=\"none\"/>\n",
              "    <path d=\"M18.56 5.44l.94 2.06.94-2.06 2.06-.94-2.06-.94-.94-2.06-.94 2.06-2.06.94zm-11 1L8.5 8.5l.94-2.06 2.06-.94-2.06-.94L8.5 2.5l-.94 2.06-2.06.94zm10 10l.94 2.06.94-2.06 2.06-.94-2.06-.94-.94-2.06-.94 2.06-2.06.94z\"/><path d=\"M17.41 7.96l-1.37-1.37c-.4-.4-.92-.59-1.43-.59-.52 0-1.04.2-1.43.59L10.3 9.45l-7.72 7.72c-.78.78-.78 2.05 0 2.83L4 21.41c.39.39.9.59 1.41.59.51 0 1.02-.2 1.41-.59l7.78-7.78 2.81-2.81c.8-.78.8-2.07 0-2.86zM5.41 20L4 18.59l7.72-7.72 1.47 1.35L5.41 20z\"/>\n",
              "  </svg>\n",
              "      </button>\n",
              "      \n",
              "  <style>\n",
              "    .colab-df-container {\n",
              "      display:flex;\n",
              "      flex-wrap:wrap;\n",
              "      gap: 12px;\n",
              "    }\n",
              "\n",
              "    .colab-df-convert {\n",
              "      background-color: #E8F0FE;\n",
              "      border: none;\n",
              "      border-radius: 50%;\n",
              "      cursor: pointer;\n",
              "      display: none;\n",
              "      fill: #1967D2;\n",
              "      height: 32px;\n",
              "      padding: 0 0 0 0;\n",
              "      width: 32px;\n",
              "    }\n",
              "\n",
              "    .colab-df-convert:hover {\n",
              "      background-color: #E2EBFA;\n",
              "      box-shadow: 0px 1px 2px rgba(60, 64, 67, 0.3), 0px 1px 3px 1px rgba(60, 64, 67, 0.15);\n",
              "      fill: #174EA6;\n",
              "    }\n",
              "\n",
              "    [theme=dark] .colab-df-convert {\n",
              "      background-color: #3B4455;\n",
              "      fill: #D2E3FC;\n",
              "    }\n",
              "\n",
              "    [theme=dark] .colab-df-convert:hover {\n",
              "      background-color: #434B5C;\n",
              "      box-shadow: 0px 1px 3px 1px rgba(0, 0, 0, 0.15);\n",
              "      filter: drop-shadow(0px 1px 2px rgba(0, 0, 0, 0.3));\n",
              "      fill: #FFFFFF;\n",
              "    }\n",
              "  </style>\n",
              "\n",
              "      <script>\n",
              "        const buttonEl =\n",
              "          document.querySelector('#df-f641b4d5-6578-427b-8716-7f06ecfd478a button.colab-df-convert');\n",
              "        buttonEl.style.display =\n",
              "          google.colab.kernel.accessAllowed ? 'block' : 'none';\n",
              "\n",
              "        async function convertToInteractive(key) {\n",
              "          const element = document.querySelector('#df-f641b4d5-6578-427b-8716-7f06ecfd478a');\n",
              "          const dataTable =\n",
              "            await google.colab.kernel.invokeFunction('convertToInteractive',\n",
              "                                                     [key], {});\n",
              "          if (!dataTable) return;\n",
              "\n",
              "          const docLinkHtml = 'Like what you see? Visit the ' +\n",
              "            '<a target=\"_blank\" href=https://colab.research.google.com/notebooks/data_table.ipynb>data table notebook</a>'\n",
              "            + ' to learn more about interactive tables.';\n",
              "          element.innerHTML = '';\n",
              "          dataTable['output_type'] = 'display_data';\n",
              "          await google.colab.output.renderOutput(dataTable, element);\n",
              "          const docLink = document.createElement('div');\n",
              "          docLink.innerHTML = docLinkHtml;\n",
              "          element.appendChild(docLink);\n",
              "        }\n",
              "      </script>\n",
              "    </div>\n",
              "  </div>\n",
              "  "
            ]
          },
          "metadata": {},
          "execution_count": 80
        }
      ]
    },
    {
      "cell_type": "code",
      "source": [
        "X_test"
      ],
      "metadata": {
        "id": "8ICWRgnWSl8g",
        "colab": {
          "base_uri": "https://localhost:8080/",
          "height": 424
        },
        "outputId": "31e4f384-36b5-44ca-c3fe-723079686204"
      },
      "execution_count": 81,
      "outputs": [
        {
          "output_type": "execute_result",
          "data": {
            "text/plain": [
              "     AGE\n",
              "69    13\n",
              "29    10\n",
              "470    0\n",
              "494    0\n",
              "54    13\n",
              "..   ...\n",
              "282    0\n",
              "152    0\n",
              "154    0\n",
              "56     1\n",
              "391    0\n",
              "\n",
              "[100 rows x 1 columns]"
            ],
            "text/html": [
              "\n",
              "  <div id=\"df-bbe9c722-a4fa-49d6-9514-95ed969f4503\">\n",
              "    <div class=\"colab-df-container\">\n",
              "      <div>\n",
              "<style scoped>\n",
              "    .dataframe tbody tr th:only-of-type {\n",
              "        vertical-align: middle;\n",
              "    }\n",
              "\n",
              "    .dataframe tbody tr th {\n",
              "        vertical-align: top;\n",
              "    }\n",
              "\n",
              "    .dataframe thead th {\n",
              "        text-align: right;\n",
              "    }\n",
              "</style>\n",
              "<table border=\"1\" class=\"dataframe\">\n",
              "  <thead>\n",
              "    <tr style=\"text-align: right;\">\n",
              "      <th></th>\n",
              "      <th>AGE</th>\n",
              "    </tr>\n",
              "  </thead>\n",
              "  <tbody>\n",
              "    <tr>\n",
              "      <th>69</th>\n",
              "      <td>13</td>\n",
              "    </tr>\n",
              "    <tr>\n",
              "      <th>29</th>\n",
              "      <td>10</td>\n",
              "    </tr>\n",
              "    <tr>\n",
              "      <th>470</th>\n",
              "      <td>0</td>\n",
              "    </tr>\n",
              "    <tr>\n",
              "      <th>494</th>\n",
              "      <td>0</td>\n",
              "    </tr>\n",
              "    <tr>\n",
              "      <th>54</th>\n",
              "      <td>13</td>\n",
              "    </tr>\n",
              "    <tr>\n",
              "      <th>...</th>\n",
              "      <td>...</td>\n",
              "    </tr>\n",
              "    <tr>\n",
              "      <th>282</th>\n",
              "      <td>0</td>\n",
              "    </tr>\n",
              "    <tr>\n",
              "      <th>152</th>\n",
              "      <td>0</td>\n",
              "    </tr>\n",
              "    <tr>\n",
              "      <th>154</th>\n",
              "      <td>0</td>\n",
              "    </tr>\n",
              "    <tr>\n",
              "      <th>56</th>\n",
              "      <td>1</td>\n",
              "    </tr>\n",
              "    <tr>\n",
              "      <th>391</th>\n",
              "      <td>0</td>\n",
              "    </tr>\n",
              "  </tbody>\n",
              "</table>\n",
              "<p>100 rows × 1 columns</p>\n",
              "</div>\n",
              "      <button class=\"colab-df-convert\" onclick=\"convertToInteractive('df-bbe9c722-a4fa-49d6-9514-95ed969f4503')\"\n",
              "              title=\"Convert this dataframe to an interactive table.\"\n",
              "              style=\"display:none;\">\n",
              "        \n",
              "  <svg xmlns=\"http://www.w3.org/2000/svg\" height=\"24px\"viewBox=\"0 0 24 24\"\n",
              "       width=\"24px\">\n",
              "    <path d=\"M0 0h24v24H0V0z\" fill=\"none\"/>\n",
              "    <path d=\"M18.56 5.44l.94 2.06.94-2.06 2.06-.94-2.06-.94-.94-2.06-.94 2.06-2.06.94zm-11 1L8.5 8.5l.94-2.06 2.06-.94-2.06-.94L8.5 2.5l-.94 2.06-2.06.94zm10 10l.94 2.06.94-2.06 2.06-.94-2.06-.94-.94-2.06-.94 2.06-2.06.94z\"/><path d=\"M17.41 7.96l-1.37-1.37c-.4-.4-.92-.59-1.43-.59-.52 0-1.04.2-1.43.59L10.3 9.45l-7.72 7.72c-.78.78-.78 2.05 0 2.83L4 21.41c.39.39.9.59 1.41.59.51 0 1.02-.2 1.41-.59l7.78-7.78 2.81-2.81c.8-.78.8-2.07 0-2.86zM5.41 20L4 18.59l7.72-7.72 1.47 1.35L5.41 20z\"/>\n",
              "  </svg>\n",
              "      </button>\n",
              "      \n",
              "  <style>\n",
              "    .colab-df-container {\n",
              "      display:flex;\n",
              "      flex-wrap:wrap;\n",
              "      gap: 12px;\n",
              "    }\n",
              "\n",
              "    .colab-df-convert {\n",
              "      background-color: #E8F0FE;\n",
              "      border: none;\n",
              "      border-radius: 50%;\n",
              "      cursor: pointer;\n",
              "      display: none;\n",
              "      fill: #1967D2;\n",
              "      height: 32px;\n",
              "      padding: 0 0 0 0;\n",
              "      width: 32px;\n",
              "    }\n",
              "\n",
              "    .colab-df-convert:hover {\n",
              "      background-color: #E2EBFA;\n",
              "      box-shadow: 0px 1px 2px rgba(60, 64, 67, 0.3), 0px 1px 3px 1px rgba(60, 64, 67, 0.15);\n",
              "      fill: #174EA6;\n",
              "    }\n",
              "\n",
              "    [theme=dark] .colab-df-convert {\n",
              "      background-color: #3B4455;\n",
              "      fill: #D2E3FC;\n",
              "    }\n",
              "\n",
              "    [theme=dark] .colab-df-convert:hover {\n",
              "      background-color: #434B5C;\n",
              "      box-shadow: 0px 1px 3px 1px rgba(0, 0, 0, 0.15);\n",
              "      filter: drop-shadow(0px 1px 2px rgba(0, 0, 0, 0.3));\n",
              "      fill: #FFFFFF;\n",
              "    }\n",
              "  </style>\n",
              "\n",
              "      <script>\n",
              "        const buttonEl =\n",
              "          document.querySelector('#df-bbe9c722-a4fa-49d6-9514-95ed969f4503 button.colab-df-convert');\n",
              "        buttonEl.style.display =\n",
              "          google.colab.kernel.accessAllowed ? 'block' : 'none';\n",
              "\n",
              "        async function convertToInteractive(key) {\n",
              "          const element = document.querySelector('#df-bbe9c722-a4fa-49d6-9514-95ed969f4503');\n",
              "          const dataTable =\n",
              "            await google.colab.kernel.invokeFunction('convertToInteractive',\n",
              "                                                     [key], {});\n",
              "          if (!dataTable) return;\n",
              "\n",
              "          const docLinkHtml = 'Like what you see? Visit the ' +\n",
              "            '<a target=\"_blank\" href=https://colab.research.google.com/notebooks/data_table.ipynb>data table notebook</a>'\n",
              "            + ' to learn more about interactive tables.';\n",
              "          element.innerHTML = '';\n",
              "          dataTable['output_type'] = 'display_data';\n",
              "          await google.colab.output.renderOutput(dataTable, element);\n",
              "          const docLink = document.createElement('div');\n",
              "          docLink.innerHTML = docLinkHtml;\n",
              "          element.appendChild(docLink);\n",
              "        }\n",
              "      </script>\n",
              "    </div>\n",
              "  </div>\n",
              "  "
            ]
          },
          "metadata": {},
          "execution_count": 81
        }
      ]
    },
    {
      "cell_type": "code",
      "source": [
        "y_test"
      ],
      "metadata": {
        "id": "FZ1HUDNOSmmM",
        "colab": {
          "base_uri": "https://localhost:8080/",
          "height": 424
        },
        "outputId": "8618fb19-c86e-49ac-cdac-70ead2315b15"
      },
      "execution_count": 82,
      "outputs": [
        {
          "output_type": "execute_result",
          "data": {
            "text/plain": [
              "     TOTCHG\n",
              "69      628\n",
              "29     2860\n",
              "470    1411\n",
              "494    5881\n",
              "54     1211\n",
              "..      ...\n",
              "282    1211\n",
              "152    1269\n",
              "154    1396\n",
              "56     1411\n",
              "391    1477\n",
              "\n",
              "[100 rows x 1 columns]"
            ],
            "text/html": [
              "\n",
              "  <div id=\"df-91226d62-1ec3-4561-ada5-89c596d0abc0\">\n",
              "    <div class=\"colab-df-container\">\n",
              "      <div>\n",
              "<style scoped>\n",
              "    .dataframe tbody tr th:only-of-type {\n",
              "        vertical-align: middle;\n",
              "    }\n",
              "\n",
              "    .dataframe tbody tr th {\n",
              "        vertical-align: top;\n",
              "    }\n",
              "\n",
              "    .dataframe thead th {\n",
              "        text-align: right;\n",
              "    }\n",
              "</style>\n",
              "<table border=\"1\" class=\"dataframe\">\n",
              "  <thead>\n",
              "    <tr style=\"text-align: right;\">\n",
              "      <th></th>\n",
              "      <th>TOTCHG</th>\n",
              "    </tr>\n",
              "  </thead>\n",
              "  <tbody>\n",
              "    <tr>\n",
              "      <th>69</th>\n",
              "      <td>628</td>\n",
              "    </tr>\n",
              "    <tr>\n",
              "      <th>29</th>\n",
              "      <td>2860</td>\n",
              "    </tr>\n",
              "    <tr>\n",
              "      <th>470</th>\n",
              "      <td>1411</td>\n",
              "    </tr>\n",
              "    <tr>\n",
              "      <th>494</th>\n",
              "      <td>5881</td>\n",
              "    </tr>\n",
              "    <tr>\n",
              "      <th>54</th>\n",
              "      <td>1211</td>\n",
              "    </tr>\n",
              "    <tr>\n",
              "      <th>...</th>\n",
              "      <td>...</td>\n",
              "    </tr>\n",
              "    <tr>\n",
              "      <th>282</th>\n",
              "      <td>1211</td>\n",
              "    </tr>\n",
              "    <tr>\n",
              "      <th>152</th>\n",
              "      <td>1269</td>\n",
              "    </tr>\n",
              "    <tr>\n",
              "      <th>154</th>\n",
              "      <td>1396</td>\n",
              "    </tr>\n",
              "    <tr>\n",
              "      <th>56</th>\n",
              "      <td>1411</td>\n",
              "    </tr>\n",
              "    <tr>\n",
              "      <th>391</th>\n",
              "      <td>1477</td>\n",
              "    </tr>\n",
              "  </tbody>\n",
              "</table>\n",
              "<p>100 rows × 1 columns</p>\n",
              "</div>\n",
              "      <button class=\"colab-df-convert\" onclick=\"convertToInteractive('df-91226d62-1ec3-4561-ada5-89c596d0abc0')\"\n",
              "              title=\"Convert this dataframe to an interactive table.\"\n",
              "              style=\"display:none;\">\n",
              "        \n",
              "  <svg xmlns=\"http://www.w3.org/2000/svg\" height=\"24px\"viewBox=\"0 0 24 24\"\n",
              "       width=\"24px\">\n",
              "    <path d=\"M0 0h24v24H0V0z\" fill=\"none\"/>\n",
              "    <path d=\"M18.56 5.44l.94 2.06.94-2.06 2.06-.94-2.06-.94-.94-2.06-.94 2.06-2.06.94zm-11 1L8.5 8.5l.94-2.06 2.06-.94-2.06-.94L8.5 2.5l-.94 2.06-2.06.94zm10 10l.94 2.06.94-2.06 2.06-.94-2.06-.94-.94-2.06-.94 2.06-2.06.94z\"/><path d=\"M17.41 7.96l-1.37-1.37c-.4-.4-.92-.59-1.43-.59-.52 0-1.04.2-1.43.59L10.3 9.45l-7.72 7.72c-.78.78-.78 2.05 0 2.83L4 21.41c.39.39.9.59 1.41.59.51 0 1.02-.2 1.41-.59l7.78-7.78 2.81-2.81c.8-.78.8-2.07 0-2.86zM5.41 20L4 18.59l7.72-7.72 1.47 1.35L5.41 20z\"/>\n",
              "  </svg>\n",
              "      </button>\n",
              "      \n",
              "  <style>\n",
              "    .colab-df-container {\n",
              "      display:flex;\n",
              "      flex-wrap:wrap;\n",
              "      gap: 12px;\n",
              "    }\n",
              "\n",
              "    .colab-df-convert {\n",
              "      background-color: #E8F0FE;\n",
              "      border: none;\n",
              "      border-radius: 50%;\n",
              "      cursor: pointer;\n",
              "      display: none;\n",
              "      fill: #1967D2;\n",
              "      height: 32px;\n",
              "      padding: 0 0 0 0;\n",
              "      width: 32px;\n",
              "    }\n",
              "\n",
              "    .colab-df-convert:hover {\n",
              "      background-color: #E2EBFA;\n",
              "      box-shadow: 0px 1px 2px rgba(60, 64, 67, 0.3), 0px 1px 3px 1px rgba(60, 64, 67, 0.15);\n",
              "      fill: #174EA6;\n",
              "    }\n",
              "\n",
              "    [theme=dark] .colab-df-convert {\n",
              "      background-color: #3B4455;\n",
              "      fill: #D2E3FC;\n",
              "    }\n",
              "\n",
              "    [theme=dark] .colab-df-convert:hover {\n",
              "      background-color: #434B5C;\n",
              "      box-shadow: 0px 1px 3px 1px rgba(0, 0, 0, 0.15);\n",
              "      filter: drop-shadow(0px 1px 2px rgba(0, 0, 0, 0.3));\n",
              "      fill: #FFFFFF;\n",
              "    }\n",
              "  </style>\n",
              "\n",
              "      <script>\n",
              "        const buttonEl =\n",
              "          document.querySelector('#df-91226d62-1ec3-4561-ada5-89c596d0abc0 button.colab-df-convert');\n",
              "        buttonEl.style.display =\n",
              "          google.colab.kernel.accessAllowed ? 'block' : 'none';\n",
              "\n",
              "        async function convertToInteractive(key) {\n",
              "          const element = document.querySelector('#df-91226d62-1ec3-4561-ada5-89c596d0abc0');\n",
              "          const dataTable =\n",
              "            await google.colab.kernel.invokeFunction('convertToInteractive',\n",
              "                                                     [key], {});\n",
              "          if (!dataTable) return;\n",
              "\n",
              "          const docLinkHtml = 'Like what you see? Visit the ' +\n",
              "            '<a target=\"_blank\" href=https://colab.research.google.com/notebooks/data_table.ipynb>data table notebook</a>'\n",
              "            + ' to learn more about interactive tables.';\n",
              "          element.innerHTML = '';\n",
              "          dataTable['output_type'] = 'display_data';\n",
              "          await google.colab.output.renderOutput(dataTable, element);\n",
              "          const docLink = document.createElement('div');\n",
              "          docLink.innerHTML = docLinkHtml;\n",
              "          element.appendChild(docLink);\n",
              "        }\n",
              "      </script>\n",
              "    </div>\n",
              "  </div>\n",
              "  "
            ]
          },
          "metadata": {},
          "execution_count": 82
        }
      ]
    },
    {
      "cell_type": "code",
      "source": [
        "## Use the training set and build a simple linear regression model.\n",
        "\n",
        "lm1 = LinearRegression()\n",
        "lm1.fit(X_train,y_train)"
      ],
      "metadata": {
        "id": "Yv2Tu2jESw1-",
        "colab": {
          "base_uri": "https://localhost:8080/"
        },
        "outputId": "0d8a2a42-c358-4a56-9806-80f6ca496d37"
      },
      "execution_count": 83,
      "outputs": [
        {
          "output_type": "execute_result",
          "data": {
            "text/plain": [
              "LinearRegression()"
            ]
          },
          "metadata": {},
          "execution_count": 83
        }
      ]
    },
    {
      "cell_type": "code",
      "source": [
        "# Print coefficients\n",
        "lm1.coef_"
      ],
      "metadata": {
        "id": "G--_ydQWV1KZ",
        "colab": {
          "base_uri": "https://localhost:8080/"
        },
        "outputId": "a6840493-82ec-436b-8fcd-b4c827fe96a1"
      },
      "execution_count": 84,
      "outputs": [
        {
          "output_type": "execute_result",
          "data": {
            "text/plain": [
              "array([[61.55113579]])"
            ]
          },
          "metadata": {},
          "execution_count": 84
        }
      ]
    },
    {
      "cell_type": "code",
      "source": [
        "# Print intercept\n",
        "lm1.intercept_"
      ],
      "metadata": {
        "id": "l1kj8f9NWEDf",
        "colab": {
          "base_uri": "https://localhost:8080/"
        },
        "outputId": "e03e8882-e33c-42e2-9288-4458064ef48b"
      },
      "execution_count": 85,
      "outputs": [
        {
          "output_type": "execute_result",
          "data": {
            "text/plain": [
              "array([2437.59945626])"
            ]
          },
          "metadata": {},
          "execution_count": 85
        }
      ]
    },
    {
      "cell_type": "markdown",
      "source": [
        "Using the built model, predict the hospital stay cost for the test set of AGE. "
      ],
      "metadata": {
        "id": "WEG0vS5CWOix"
      }
    },
    {
      "cell_type": "code",
      "source": [
        "## Use the fitted model to predict hospital stay cost on test set\n",
        "y_pred = lm1.predict(X_test)"
      ],
      "metadata": {
        "id": "S2f7s0R-WWXC"
      },
      "execution_count": 86,
      "outputs": []
    },
    {
      "cell_type": "markdown",
      "source": [
        "Evaluate the model using the R^2 score."
      ],
      "metadata": {
        "id": "FOO89qw3WffD"
      }
    },
    {
      "cell_type": "code",
      "source": [
        "# For test data\n",
        "lm1.score(X_test,y_test)"
      ],
      "metadata": {
        "id": "YIoUXrtXWo7Z",
        "colab": {
          "base_uri": "https://localhost:8080/"
        },
        "outputId": "becf3efe-9e0b-4f6f-e61a-2fd8690a8998"
      },
      "execution_count": 87,
      "outputs": [
        {
          "output_type": "execute_result",
          "data": {
            "text/plain": [
              "0.018868458569048507"
            ]
          },
          "metadata": {},
          "execution_count": 87
        }
      ]
    },
    {
      "cell_type": "code",
      "source": [
        "# For train data\n",
        "lm1.score(X_train,y_train)"
      ],
      "metadata": {
        "id": "6ilNaWcaxKo7",
        "colab": {
          "base_uri": "https://localhost:8080/"
        },
        "outputId": "5b3136d0-e6e5-464d-a096-50b0ac48327a"
      },
      "execution_count": 88,
      "outputs": [
        {
          "output_type": "execute_result",
          "data": {
            "text/plain": [
              "0.01544044941281042"
            ]
          },
          "metadata": {},
          "execution_count": 88
        }
      ]
    },
    {
      "cell_type": "markdown",
      "source": [
        "Calculate the mean squared error"
      ],
      "metadata": {
        "id": "852kZ0z2Z4Md"
      }
    },
    {
      "cell_type": "code",
      "source": [
        "from sklearn.metrics import mean_squared_error\n",
        "mse1 = mean_squared_error(y_test,y_pred)\n",
        "rmse1 = np.sqrt(mse1)\n",
        "print('Mean squared error for the first model is: ', mse1)\n",
        "print('Root mean squared error for the first model is: ', rmse1)"
      ],
      "metadata": {
        "id": "xPnLBtT4Z3Uf",
        "colab": {
          "base_uri": "https://localhost:8080/"
        },
        "outputId": "4458c021-bd7a-4f1d-8c51-66b9804187bf"
      },
      "execution_count": 89,
      "outputs": [
        {
          "output_type": "stream",
          "name": "stdout",
          "text": [
            "Mean squared error for the first model is:  26588172.74266924\n",
            "Root mean squared error for the first model is:  5156.3720523900565\n"
          ]
        }
      ]
    },
    {
      "cell_type": "markdown",
      "source": [
        "OLS using statsmodels library"
      ],
      "metadata": {
        "id": "Y2njTGPOu1OQ"
      }
    },
    {
      "cell_type": "code",
      "source": [
        "import statsmodels.api as sm"
      ],
      "metadata": {
        "id": "38VtE0DZu0uD"
      },
      "execution_count": 90,
      "outputs": []
    },
    {
      "cell_type": "code",
      "source": [
        "x_train = sm.add_constant(X_train)\n",
        "model1 = sm.OLS(y_train,x_train)\n",
        "result1 = model1.fit()\n",
        "\n",
        "# Print summary of model \n",
        "print(result1.summary())"
      ],
      "metadata": {
        "id": "MjU8gxOOu5DM",
        "colab": {
          "base_uri": "https://localhost:8080/"
        },
        "outputId": "5c55de20-3f12-4b7a-e44c-0865dd86b277"
      },
      "execution_count": 91,
      "outputs": [
        {
          "output_type": "stream",
          "name": "stdout",
          "text": [
            "                            OLS Regression Results                            \n",
            "==============================================================================\n",
            "Dep. Variable:                 TOTCHG   R-squared:                       0.015\n",
            "Model:                            OLS   Adj. R-squared:                  0.013\n",
            "Method:                 Least Squares   F-statistic:                     6.226\n",
            "Date:                Fri, 15 Jul 2022   Prob (F-statistic):             0.0130\n",
            "Time:                        10:21:29   Log-Likelihood:                -3816.8\n",
            "No. Observations:                 399   AIC:                             7638.\n",
            "Df Residuals:                     397   BIC:                             7646.\n",
            "Df Model:                           1                                         \n",
            "Covariance Type:            nonrobust                                         \n",
            "==============================================================================\n",
            "                 coef    std err          t      P>|t|      [0.025      0.975]\n",
            "------------------------------------------------------------------------------\n",
            "const       2437.5995    217.581     11.203      0.000    2009.845    2865.354\n",
            "AGE           61.5511     24.668      2.495      0.013      13.055     110.047\n",
            "==============================================================================\n",
            "Omnibus:                      350.486   Durbin-Watson:                   1.973\n",
            "Prob(Omnibus):                  0.000   Jarque-Bera (JB):             6796.407\n",
            "Skew:                           3.806   Prob(JB):                         0.00\n",
            "Kurtosis:                      21.731   Cond. No.                         11.1\n",
            "==============================================================================\n",
            "\n",
            "Warnings:\n",
            "[1] Standard Errors assume that the covariance matrix of the errors is correctly specified.\n"
          ]
        },
        {
          "output_type": "stream",
          "name": "stderr",
          "text": [
            "/usr/local/lib/python3.7/dist-packages/statsmodels/tsa/tsatools.py:117: FutureWarning: In a future version of pandas all arguments of concat except for the argument 'objs' will be keyword-only\n",
            "  x = pd.concat(x[::order], 1)\n"
          ]
        }
      ]
    },
    {
      "cell_type": "markdown",
      "source": [
        "Plotting a regression line"
      ],
      "metadata": {
        "id": "Ytl3aBHn2MMV"
      }
    },
    {
      "cell_type": "code",
      "source": [
        "import seaborn as sb"
      ],
      "metadata": {
        "id": "YSN4qsb92Z-_"
      },
      "execution_count": 92,
      "outputs": []
    },
    {
      "cell_type": "code",
      "source": [
        "# AGE vs TOTCHG\n",
        "df = hospital_df[['AGE','TOTCHG']]\n",
        "  \n",
        "# use lmplot\n",
        "sb.lmplot(x='AGE',y='TOTCHG',data=df)"
      ],
      "metadata": {
        "id": "QGCp1pQB2Lrs",
        "colab": {
          "base_uri": "https://localhost:8080/",
          "height": 386
        },
        "outputId": "5de0b43f-5286-4742-c7d1-d1c8dc5acadd"
      },
      "execution_count": 93,
      "outputs": [
        {
          "output_type": "execute_result",
          "data": {
            "text/plain": [
              "<seaborn.axisgrid.FacetGrid at 0x7f44aa5ab910>"
            ]
          },
          "metadata": {},
          "execution_count": 93
        },
        {
          "output_type": "display_data",
          "data": {
            "text/plain": [
              "<Figure size 360x360 with 1 Axes>"
            ],
            "image/png": "[encoded data removed]"
          },
          "metadata": {
            "needs_background": "light"
          }
        }
      ]
    },
    {
      "cell_type": "code",
      "source": [
        "# APRDRG vs TOTCHG\n",
        "df = hospital_df[['APRDRG','TOTCHG']]\n",
        "\n",
        "# use lmplot\n",
        "sb.lmplot(x='APRDRG',y='TOTCHG',data=df)"
      ],
      "metadata": {
        "id": "5WwYfZme2qZT",
        "colab": {
          "base_uri": "https://localhost:8080/",
          "height": 386
        },
        "outputId": "1e88dec0-f222-4677-d489-6228d8a0d9e4"
      },
      "execution_count": 94,
      "outputs": [
        {
          "output_type": "execute_result",
          "data": {
            "text/plain": [
              "<seaborn.axisgrid.FacetGrid at 0x7f44aa677d90>"
            ]
          },
          "metadata": {},
          "execution_count": 94
        },
        {
          "output_type": "display_data",
          "data": {
            "text/plain": [
              "<Figure size 360x360 with 1 Axes>"
            ],
            "image/png": "[encoded data removed]"
          },
          "metadata": {
            "needs_background": "light"
          }
        }
      ]
    },
    {
      "cell_type": "code",
      "source": [
        "# LOS vs TOTCHG\n",
        "df = hospital_df[['LOS','TOTCHG']]\n",
        "\n",
        "# use lmplot\n",
        "sb.lmplot(x='LOS',y='TOTCHG',data=df)"
      ],
      "metadata": {
        "id": "zpvWsNz22vIp",
        "colab": {
          "base_uri": "https://localhost:8080/",
          "height": 386
        },
        "outputId": "8ba81a1b-b9ac-4a07-e994-43c5daff41b6"
      },
      "execution_count": 95,
      "outputs": [
        {
          "output_type": "execute_result",
          "data": {
            "text/plain": [
              "<seaborn.axisgrid.FacetGrid at 0x7f44a9fbe590>"
            ]
          },
          "metadata": {},
          "execution_count": 95
        },
        {
          "output_type": "display_data",
          "data": {
            "text/plain": [
              "<Figure size 360x360 with 1 Axes>"
            ],
            "image/png": "[encoded data removed]"
          },
          "metadata": {
            "needs_background": "light"
          }
        }
      ]
    },
    {
      "cell_type": "markdown",
      "source": [
        "## Multiple Linear Regression "
      ],
      "metadata": {
        "id": "-yRBVtoKXBwl"
      }
    },
    {
      "cell_type": "markdown",
      "source": [
        "Consider age, length of stay and diagnostic category as independent variables and hospital stay cost as dependent variables, and build a multiple linear regression model."
      ],
      "metadata": {
        "id": "RcF0FlqAXP0y"
      }
    },
    {
      "cell_type": "code",
      "source": [
        "X = hospital_df[['AGE','LOS','APRDRG']]\n",
        "y = hospital_df[['TOTCHG']]\n",
        "print(X)\n",
        "print(y)"
      ],
      "metadata": {
        "id": "RFo1Mo-FXFCB",
        "colab": {
          "base_uri": "https://localhost:8080/"
        },
        "outputId": "f65c9b14-f016-4128-b0d5-7503bb7ec52b"
      },
      "execution_count": 96,
      "outputs": [
        {
          "output_type": "stream",
          "name": "stdout",
          "text": [
            "     AGE  LOS  APRDRG\n",
            "0     17    2     560\n",
            "1     17    2     753\n",
            "2     17    7     930\n",
            "3     17    1     758\n",
            "4     17    1     754\n",
            "..   ...  ...     ...\n",
            "494    0    6     636\n",
            "495    0    2     640\n",
            "496    0    2     640\n",
            "497    0    2     640\n",
            "498    0    4     640\n",
            "\n",
            "[499 rows x 3 columns]\n",
            "     TOTCHG\n",
            "0      2660\n",
            "1      1689\n",
            "2     20060\n",
            "3       736\n",
            "4      1194\n",
            "..      ...\n",
            "494    5881\n",
            "495    1171\n",
            "496    1171\n",
            "497    1086\n",
            "498    4931\n",
            "\n",
            "[499 rows x 1 columns]\n"
          ]
        }
      ]
    },
    {
      "cell_type": "code",
      "source": [
        "# Train-Test split\n",
        "X_train, X_test, y_train, y_test = train_test_split(X, y, train_size=0.8, random_state = 100)"
      ],
      "metadata": {
        "id": "RmjcVgOQXyUv"
      },
      "execution_count": 97,
      "outputs": []
    },
    {
      "cell_type": "code",
      "source": [
        "## Building a linear regression model.\n",
        "\n",
        "lm2 = LinearRegression()\n",
        "lm2.fit(X_train,y_train)"
      ],
      "metadata": {
        "id": "THtIwwc3X6Kn",
        "colab": {
          "base_uri": "https://localhost:8080/"
        },
        "outputId": "4ca5bca2-6c29-4417-984e-b2fe68c73521"
      },
      "execution_count": 98,
      "outputs": [
        {
          "output_type": "execute_result",
          "data": {
            "text/plain": [
              "LinearRegression()"
            ]
          },
          "metadata": {},
          "execution_count": 98
        }
      ]
    },
    {
      "cell_type": "code",
      "source": [
        "# Print coefficients and intercept\n",
        "print(lm2.coef_)\n",
        "print(lm2.intercept_)"
      ],
      "metadata": {
        "id": "8hXJJHouYA05",
        "colab": {
          "base_uri": "https://localhost:8080/"
        },
        "outputId": "23abc899-8fcd-446b-beb8-4d4a5ef9c5a6"
      },
      "execution_count": 99,
      "outputs": [
        {
          "output_type": "stream",
          "name": "stdout",
          "text": [
            "[[110.46839974 724.17859289  -9.13305086]]\n",
            "[5754.35869291]\n"
          ]
        }
      ]
    },
    {
      "cell_type": "markdown",
      "source": [
        "Using the model built, make predictions on the test dataset."
      ],
      "metadata": {
        "id": "BV8FaFTQZMLz"
      }
    },
    {
      "cell_type": "code",
      "source": [
        "y_pred = lm2.predict(X_test)"
      ],
      "metadata": {
        "id": "cDK0f9Z5ZPH1"
      },
      "execution_count": 100,
      "outputs": []
    },
    {
      "cell_type": "markdown",
      "source": [
        "Calculate R^2 value"
      ],
      "metadata": {
        "id": "cg7thaDXZVX5"
      }
    },
    {
      "cell_type": "code",
      "source": [
        "# For test data\n",
        "lm2.score(X_test,y_test)"
      ],
      "metadata": {
        "id": "Z8B-JD8KZVFm",
        "colab": {
          "base_uri": "https://localhost:8080/"
        },
        "outputId": "329a36d0-2e25-4fe7-89f6-9af374ee7387"
      },
      "execution_count": 101,
      "outputs": [
        {
          "output_type": "execute_result",
          "data": {
            "text/plain": [
              "0.21092319431508555"
            ]
          },
          "metadata": {},
          "execution_count": 101
        }
      ]
    },
    {
      "cell_type": "code",
      "source": [
        "# For train data\n",
        "lm2.score(X_train,y_train)"
      ],
      "metadata": {
        "id": "d99XGXpix5_J",
        "colab": {
          "base_uri": "https://localhost:8080/"
        },
        "outputId": "909740a0-aafa-4573-cc0d-5c659c800c4f"
      },
      "execution_count": 102,
      "outputs": [
        {
          "output_type": "execute_result",
          "data": {
            "text/plain": [
              "0.7341441894011078"
            ]
          },
          "metadata": {},
          "execution_count": 102
        }
      ]
    },
    {
      "cell_type": "markdown",
      "source": [
        "Calculate the mean squared error"
      ],
      "metadata": {
        "id": "kszkwtZZaFEm"
      }
    },
    {
      "cell_type": "code",
      "source": [
        "from sklearn.metrics import mean_squared_error\n",
        "mse2 = mean_squared_error(y_test, y_pred)\n",
        "rmse2 = np.sqrt(mse2)\n",
        "print('Mean squared error for the second model is: ', mse2)\n",
        "print('Root mean squared error for the second model is: ', rmse2)"
      ],
      "metadata": {
        "id": "jep-SznhaFEn",
        "colab": {
          "base_uri": "https://localhost:8080/"
        },
        "outputId": "9be8c16a-c42f-4550-cef6-3b6c4a18408a"
      },
      "execution_count": 103,
      "outputs": [
        {
          "output_type": "stream",
          "name": "stdout",
          "text": [
            "Mean squared error for the second model is:  21383585.717961203\n",
            "Root mean squared error for the second model is:  4624.238933917797\n"
          ]
        }
      ]
    },
    {
      "cell_type": "markdown",
      "source": [
        "Print regression summary using statsmodels library"
      ],
      "metadata": {
        "id": "X5UGis6pxubF"
      }
    },
    {
      "cell_type": "code",
      "source": [
        "x_train = sm.add_constant(X_train)\n",
        "model2 = sm.OLS(y_train,x_train)\n",
        "result2 = model2.fit()\n",
        "\n",
        "# Print summary of model \n",
        "print(result2.summary())"
      ],
      "metadata": {
        "id": "N3s5TXK9yyX0",
        "colab": {
          "base_uri": "https://localhost:8080/"
        },
        "outputId": "84649b5c-7d6c-462f-88b6-1eedfec3f092"
      },
      "execution_count": 104,
      "outputs": [
        {
          "output_type": "stream",
          "name": "stdout",
          "text": [
            "                            OLS Regression Results                            \n",
            "==============================================================================\n",
            "Dep. Variable:                 TOTCHG   R-squared:                       0.734\n",
            "Model:                            OLS   Adj. R-squared:                  0.732\n",
            "Method:                 Least Squares   F-statistic:                     363.6\n",
            "Date:                Fri, 15 Jul 2022   Prob (F-statistic):          3.18e-113\n",
            "Time:                        10:21:34   Log-Likelihood:                -3555.6\n",
            "No. Observations:                 399   AIC:                             7119.\n",
            "Df Residuals:                     395   BIC:                             7135.\n",
            "Df Model:                           3                                         \n",
            "Covariance Type:            nonrobust                                         \n",
            "==============================================================================\n",
            "                 coef    std err          t      P>|t|      [0.025      0.975]\n",
            "------------------------------------------------------------------------------\n",
            "const       5754.3587    330.491     17.412      0.000    5104.616    6404.101\n",
            "AGE          110.4684     12.977      8.512      0.000      84.955     135.982\n",
            "LOS          724.1786     27.403     26.427      0.000     670.305     778.052\n",
            "APRDRG        -9.1331      0.498    -18.329      0.000     -10.113      -8.153\n",
            "==============================================================================\n",
            "Omnibus:                      325.450   Durbin-Watson:                   2.038\n",
            "Prob(Omnibus):                  0.000   Jarque-Bera (JB):             9119.057\n",
            "Skew:                           3.218   Prob(JB):                         0.00\n",
            "Kurtosis:                      25.519   Cond. No.                     2.35e+03\n",
            "==============================================================================\n",
            "\n",
            "Warnings:\n",
            "[1] Standard Errors assume that the covariance matrix of the errors is correctly specified.\n",
            "[2] The condition number is large, 2.35e+03. This might indicate that there are\n",
            "strong multicollinearity or other numerical problems.\n"
          ]
        },
        {
          "output_type": "stream",
          "name": "stderr",
          "text": [
            "/usr/local/lib/python3.7/dist-packages/statsmodels/tsa/tsatools.py:117: FutureWarning: In a future version of pandas all arguments of concat except for the argument 'objs' will be keyword-only\n",
            "  x = pd.concat(x[::order], 1)\n"
          ]
        }
      ]
    },
    {
      "cell_type": "markdown",
      "source": [
        "## Forward and Backward Stepwise Regression"
      ],
      "metadata": {
        "id": "e4Ypkhkk4xfj"
      }
    },
    {
      "cell_type": "markdown",
      "source": [
        "Features were: 'AGE', 'LOS', 'APRDRG'"
      ],
      "metadata": {
        "id": "BAEPgHYO_sX3"
      }
    },
    {
      "cell_type": "code",
      "source": [
        "from sklearn.feature_selection import SequentialFeatureSelector"
      ],
      "metadata": {
        "id": "IFgmx9r84z-3"
      },
      "execution_count": 105,
      "outputs": []
    },
    {
      "cell_type": "code",
      "source": [
        "lm2 = LinearRegression()\n",
        "sfs = SequentialFeatureSelector(lm2,direction=\"forward\")\n",
        "sfs.fit(X_train,y_train)"
      ],
      "metadata": {
        "id": "Zi1uPeca48bh",
        "colab": {
          "base_uri": "https://localhost:8080/"
        },
        "outputId": "f574b7a1-ee22-464a-eac5-78326d89234e"
      },
      "execution_count": 106,
      "outputs": [
        {
          "output_type": "execute_result",
          "data": {
            "text/plain": [
              "SequentialFeatureSelector(estimator=LinearRegression())"
            ]
          },
          "metadata": {},
          "execution_count": 106
        }
      ]
    },
    {
      "cell_type": "code",
      "source": [
        "sfs.get_support()"
      ],
      "metadata": {
        "id": "bn_0in5155_A",
        "colab": {
          "base_uri": "https://localhost:8080/"
        },
        "outputId": "476e9095-1d69-4f9d-ccec-9ec0fecd51ae"
      },
      "execution_count": 107,
      "outputs": [
        {
          "output_type": "execute_result",
          "data": {
            "text/plain": [
              "array([False,  True, False])"
            ]
          },
          "metadata": {},
          "execution_count": 107
        }
      ]
    },
    {
      "cell_type": "code",
      "source": [
        "lm2 = LinearRegression()\n",
        "sfs = SequentialFeatureSelector(lm2,direction=\"backward\")\n",
        "sfs.fit(X_train,y_train)"
      ],
      "metadata": {
        "id": "t8MT8uK06SxT",
        "colab": {
          "base_uri": "https://localhost:8080/"
        },
        "outputId": "a98070b2-5734-414a-ed4c-6c48d9a2f2d5"
      },
      "execution_count": 108,
      "outputs": [
        {
          "output_type": "execute_result",
          "data": {
            "text/plain": [
              "SequentialFeatureSelector(direction='backward', estimator=LinearRegression())"
            ]
          },
          "metadata": {},
          "execution_count": 108
        }
      ]
    },
    {
      "cell_type": "code",
      "source": [
        "sfs.get_support()"
      ],
      "metadata": {
        "id": "JR2W4QeM6Vil",
        "colab": {
          "base_uri": "https://localhost:8080/"
        },
        "outputId": "e7440fe9-e8d1-476b-e646-f7cfdd745fcc"
      },
      "execution_count": 109,
      "outputs": [
        {
          "output_type": "execute_result",
          "data": {
            "text/plain": [
              "array([False,  True, False])"
            ]
          },
          "metadata": {},
          "execution_count": 109
        }
      ]
    },
    {
      "cell_type": "markdown",
      "source": [
        "## Regularization "
      ],
      "metadata": {
        "id": "7GgJuHXU6Z4M"
      }
    },
    {
      "cell_type": "code",
      "source": [
        "from sklearn.linear_model import Ridge, Lasso"
      ],
      "metadata": {
        "id": "d8VYfojZ6cSk"
      },
      "execution_count": 110,
      "outputs": []
    },
    {
      "cell_type": "code",
      "source": [
        "ridgelm = Ridge(alpha=10)\n",
        "ridgelm.fit(X_train,y_train)"
      ],
      "metadata": {
        "id": "_zYdMyqd7aY8",
        "colab": {
          "base_uri": "https://localhost:8080/"
        },
        "outputId": "c160c37e-970c-4ff9-d6b3-8c35f8770362"
      },
      "execution_count": 111,
      "outputs": [
        {
          "output_type": "execute_result",
          "data": {
            "text/plain": [
              "Ridge(alpha=10)"
            ]
          },
          "metadata": {},
          "execution_count": 111
        }
      ]
    },
    {
      "cell_type": "code",
      "source": [
        "# Print coefficients and intercept\n",
        "print(ridgelm.coef_)\n",
        "print(ridgelm.intercept_)"
      ],
      "metadata": {
        "id": "vc_FNLV88azh",
        "colab": {
          "base_uri": "https://localhost:8080/"
        },
        "outputId": "6816cdfe-f7a3-486e-aeb5-f1987311ab3f"
      },
      "execution_count": 112,
      "outputs": [
        {
          "output_type": "stream",
          "name": "stdout",
          "text": [
            "[[110.37378293 722.50462043  -9.13377182]]\n",
            "[5760.00941038]\n"
          ]
        }
      ]
    },
    {
      "cell_type": "code",
      "source": [
        "# Print score for test and train data\n",
        "print(ridgelm.score(X_test, y_test))\n",
        "print(ridgelm.score(X_train, y_train))"
      ],
      "metadata": {
        "id": "10O0H3sa76VA",
        "colab": {
          "base_uri": "https://localhost:8080/"
        },
        "outputId": "21c1cad9-84a1-4359-8aca-3b1bf49c4567"
      },
      "execution_count": 113,
      "outputs": [
        {
          "output_type": "stream",
          "name": "stdout",
          "text": [
            "0.21077451039779604\n",
            "0.7341416647361765\n"
          ]
        }
      ]
    },
    {
      "cell_type": "code",
      "source": [
        "# Try different alpha\n",
        "ridgelm = Ridge(alpha=10000)\n",
        "ridgelm.fit(X_train,y_train)\n"
      ],
      "metadata": {
        "id": "m9oIv3eB7y-E",
        "colab": {
          "base_uri": "https://localhost:8080/"
        },
        "outputId": "e7bd98f1-61b6-4719-cd60-062594fa49da"
      },
      "execution_count": 114,
      "outputs": [
        {
          "output_type": "execute_result",
          "data": {
            "text/plain": [
              "Ridge(alpha=10000)"
            ]
          },
          "metadata": {},
          "execution_count": 114
        }
      ]
    },
    {
      "cell_type": "code",
      "source": [
        "print(ridgelm.coef_)\n",
        "print(ridgelm.intercept_)"
      ],
      "metadata": {
        "id": "6yq4kh-T9Oll",
        "colab": {
          "base_uri": "https://localhost:8080/"
        },
        "outputId": "d5fe651e-3cdb-4a7a-f18b-299c54c72bf1"
      },
      "execution_count": 115,
      "outputs": [
        {
          "output_type": "stream",
          "name": "stdout",
          "text": [
            "[[ 65.32779076 217.83187738  -9.26303816]]\n",
            "[7497.57879329]\n"
          ]
        }
      ]
    },
    {
      "cell_type": "code",
      "source": [
        "print(ridgelm.score(X_test, y_test))\n",
        "print(ridgelm.score(X_train, y_train))"
      ],
      "metadata": {
        "colab": {
          "base_uri": "https://localhost:8080/"
        },
        "id": "75zdBB-8V9zK",
        "outputId": "891393d3-3c39-4d95-a511-ceb6d1afb771"
      },
      "execution_count": 116,
      "outputs": [
        {
          "output_type": "stream",
          "name": "stdout",
          "text": [
            "0.04005415662886147\n",
            "0.49977157963634233\n"
          ]
        }
      ]
    },
    {
      "cell_type": "code",
      "source": [
        "ridgelm = Ridge(alpha=100000)\n",
        "ridgelm.fit(X_train,y_train)\n",
        "print(ridgelm.coef_)\n",
        "print(ridgelm.intercept_)\n",
        "print(ridgelm.score(X_test, y_test))\n",
        "print(ridgelm.score(X_train, y_train))"
      ],
      "metadata": {
        "id": "vZCxOUPu8Tft",
        "colab": {
          "base_uri": "https://localhost:8080/"
        },
        "outputId": "c87eada8-4c9e-437b-a3c2-679b62921616"
      },
      "execution_count": 117,
      "outputs": [
        {
          "output_type": "stream",
          "name": "stdout",
          "text": [
            "[[15.34793137 29.73648958 -9.08545696]]\n",
            "[8183.4730868]\n",
            "-0.09603200954232727\n",
            "0.2765464244512731\n"
          ]
        }
      ]
    },
    {
      "cell_type": "code",
      "source": [
        "# Print coefficients and intercept\n",
        "print()\n",
        "print()"
      ],
      "metadata": {
        "id": "86eubPIK824S",
        "colab": {
          "base_uri": "https://localhost:8080/"
        },
        "outputId": "c215a8ad-4e83-49c1-c6db-570a07dc2ba6"
      },
      "execution_count": 118,
      "outputs": [
        {
          "output_type": "stream",
          "name": "stdout",
          "text": [
            "\n",
            "\n"
          ]
        }
      ]
    },
    {
      "cell_type": "code",
      "source": [
        "# Print score for test and train data\n",
        "print()\n",
        "print()"
      ],
      "metadata": {
        "id": "FoaGZ1Qy87Bu",
        "colab": {
          "base_uri": "https://localhost:8080/"
        },
        "outputId": "17c49bf1-34ec-4090-d509-bf254239b88b"
      },
      "execution_count": 119,
      "outputs": [
        {
          "output_type": "stream",
          "name": "stdout",
          "text": [
            "\n",
            "\n"
          ]
        }
      ]
    },
    {
      "cell_type": "code",
      "source": [
        "# Try different alpha\n",
        "lassolm = Lasso(alpha=10000)\n",
        "lassolm.fit(X_train,y_train)\n"
      ],
      "metadata": {
        "id": "V77oxrO89ByR",
        "colab": {
          "base_uri": "https://localhost:8080/"
        },
        "outputId": "5ea1ed50-5089-4b23-a867-80916f4fadda"
      },
      "execution_count": 120,
      "outputs": [
        {
          "output_type": "execute_result",
          "data": {
            "text/plain": [
              "Lasso(alpha=10000)"
            ]
          },
          "metadata": {},
          "execution_count": 120
        }
      ]
    },
    {
      "cell_type": "code",
      "source": [
        "print(lassolm.coef_)\n",
        "print(lassolm.intercept_)\n",
        "print(lassolm.score(X_test, y_test))\n",
        "print(lassolm.score(X_train, y_train))"
      ],
      "metadata": {
        "colab": {
          "base_uri": "https://localhost:8080/"
        },
        "id": "aSKD4crZWkKi",
        "outputId": "451f3bac-3838-406a-b2e6-a0bf7e3c2798"
      },
      "execution_count": 121,
      "outputs": [
        {
          "output_type": "stream",
          "name": "stdout",
          "text": [
            "[ 0.          0.         -8.79857406]\n",
            "[8172.58491212]\n",
            "-0.11935650369314255\n",
            "0.22828423925337782\n"
          ]
        }
      ]
    },
    {
      "cell_type": "markdown",
      "source": [
        "## Best subset selection"
      ],
      "metadata": {
        "id": "cEh0qzCWyGDo"
      }
    },
    {
      "cell_type": "code",
      "source": [
        "from sklearn.feature_selection import SelectKBest, f_regression"
      ],
      "metadata": {
        "id": "XONLs7FPyKBW"
      },
      "execution_count": 122,
      "outputs": []
    },
    {
      "cell_type": "markdown",
      "source": [
        "Features were: 'AGE', 'LOS', 'APRDRG'"
      ],
      "metadata": {
        "id": "M5SXJP37_lSM"
      }
    },
    {
      "cell_type": "code",
      "source": [
        "# Best 1-feature model\n",
        "m1 = SelectKBest(f_regression,k=1)\n",
        "m1.fit(X_train,y_train)"
      ],
      "metadata": {
        "id": "zM-amkUm9kEL",
        "colab": {
          "base_uri": "https://localhost:8080/"
        },
        "outputId": "c9d0541e-6194-4bb3-db40-0fbb57fe887c"
      },
      "execution_count": 123,
      "outputs": [
        {
          "output_type": "stream",
          "name": "stderr",
          "text": [
            "/usr/local/lib/python3.7/dist-packages/sklearn/utils/validation.py:993: DataConversionWarning: A column-vector y was passed when a 1d array was expected. Please change the shape of y to (n_samples, ), for example using ravel().\n",
            "  y = column_or_1d(y, warn=True)\n"
          ]
        },
        {
          "output_type": "execute_result",
          "data": {
            "text/plain": [
              "SelectKBest(k=1, score_func=<function f_regression at 0x7f44aba64710>)"
            ]
          },
          "metadata": {},
          "execution_count": 123
        }
      ]
    },
    {
      "cell_type": "code",
      "source": [
        "m1.get_support()"
      ],
      "metadata": {
        "id": "qBZ5pbyY-ksC",
        "colab": {
          "base_uri": "https://localhost:8080/"
        },
        "outputId": "34a1fc52-a634-42f8-911a-027d936fee5c"
      },
      "execution_count": 124,
      "outputs": [
        {
          "output_type": "execute_result",
          "data": {
            "text/plain": [
              "array([False,  True, False])"
            ]
          },
          "metadata": {},
          "execution_count": 124
        }
      ]
    },
    {
      "cell_type": "code",
      "source": [
        "X = hospital_df[['LOS']]\n",
        "y = hospital_df[['TOTCHG']]\n",
        "X_train1, X_test1, y_train1, y_test1 = train_test_split(X, y, train_size=0.8, random_state = 100)\n",
        "x_train1 = sm.add_constant(X_train1)\n",
        "mlm1 = sm.OLS(y_train1, x_train1)\n",
        "resultlm1 = mlm1.fit()\n",
        "print(resultlm1.summary())"
      ],
      "metadata": {
        "id": "PRb-pKyJ_D3P",
        "colab": {
          "base_uri": "https://localhost:8080/"
        },
        "outputId": "c7c5b554-c6cf-440d-c7ca-50512fae7091"
      },
      "execution_count": 125,
      "outputs": [
        {
          "output_type": "stream",
          "name": "stdout",
          "text": [
            "                            OLS Regression Results                            \n",
            "==============================================================================\n",
            "Dep. Variable:                 TOTCHG   R-squared:                       0.482\n",
            "Model:                            OLS   Adj. R-squared:                  0.481\n",
            "Method:                 Least Squares   F-statistic:                     369.7\n",
            "Date:                Fri, 15 Jul 2022   Prob (F-statistic):           1.04e-58\n",
            "Time:                        10:22:11   Log-Likelihood:                -3688.6\n",
            "No. Observations:                 399   AIC:                             7381.\n",
            "Df Residuals:                     397   BIC:                             7389.\n",
            "Df Model:                           1                                         \n",
            "Covariance Type:            nonrobust                                         \n",
            "==============================================================================\n",
            "                 coef    std err          t      P>|t|      [0.025      0.975]\n",
            "------------------------------------------------------------------------------\n",
            "const        709.0772    165.034      4.297      0.000     384.627    1033.527\n",
            "LOS          732.0796     38.073     19.228      0.000     657.230     806.929\n",
            "==============================================================================\n",
            "Omnibus:                      297.176   Durbin-Watson:                   2.015\n",
            "Prob(Omnibus):                  0.000   Jarque-Bera (JB):             2959.874\n",
            "Skew:                           3.274   Prob(JB):                         0.00\n",
            "Kurtosis:                      14.626   Cond. No.                         5.82\n",
            "==============================================================================\n",
            "\n",
            "Warnings:\n",
            "[1] Standard Errors assume that the covariance matrix of the errors is correctly specified.\n"
          ]
        },
        {
          "output_type": "stream",
          "name": "stderr",
          "text": [
            "/usr/local/lib/python3.7/dist-packages/statsmodels/tsa/tsatools.py:117: FutureWarning: In a future version of pandas all arguments of concat except for the argument 'objs' will be keyword-only\n",
            "  x = pd.concat(x[::order], 1)\n"
          ]
        }
      ]
    },
    {
      "cell_type": "code",
      "source": [
        "# Best 2-features model\n",
        "m2 = SelectKBest(f_regression,k=2)\n",
        "m2.fit(X_train,y_train)\n",
        "m2.get_support()"
      ],
      "metadata": {
        "id": "E-7jY-7S-pif",
        "colab": {
          "base_uri": "https://localhost:8080/"
        },
        "outputId": "e584c410-352d-4f56-e920-fa245fb5e496"
      },
      "execution_count": 126,
      "outputs": [
        {
          "output_type": "stream",
          "name": "stderr",
          "text": [
            "/usr/local/lib/python3.7/dist-packages/sklearn/utils/validation.py:993: DataConversionWarning: A column-vector y was passed when a 1d array was expected. Please change the shape of y to (n_samples, ), for example using ravel().\n",
            "  y = column_or_1d(y, warn=True)\n"
          ]
        },
        {
          "output_type": "execute_result",
          "data": {
            "text/plain": [
              "array([False,  True,  True])"
            ]
          },
          "metadata": {},
          "execution_count": 126
        }
      ]
    },
    {
      "cell_type": "code",
      "source": [
        "X = hospital_df[['LOS','APRDRG']]\n",
        "y = hospital_df[['TOTCHG']]\n",
        "X_train2, X_test2, y_train2, y_test2 = train_test_split(X, y, train_size=0.8, random_state = 100)\n",
        "x_train2 = sm.add_constant(X_train2)\n",
        "mlm2 = sm.OLS(y_train2, x_train2)\n",
        "resultlm2 = mlm2.fit()\n",
        "print(resultlm2.summary())"
      ],
      "metadata": {
        "id": "x0yh-Gim_8i_",
        "colab": {
          "base_uri": "https://localhost:8080/"
        },
        "outputId": "07adc7f5-a2ec-4e9d-f7f4-47e7c369df85"
      },
      "execution_count": 127,
      "outputs": [
        {
          "output_type": "stream",
          "name": "stdout",
          "text": [
            "                            OLS Regression Results                            \n",
            "==============================================================================\n",
            "Dep. Variable:                 TOTCHG   R-squared:                       0.685\n",
            "Model:                            OLS   Adj. R-squared:                  0.684\n",
            "Method:                 Least Squares   F-statistic:                     431.3\n",
            "Date:                Fri, 15 Jul 2022   Prob (F-statistic):          3.66e-100\n",
            "Time:                        10:23:53   Log-Likelihood:                -3589.2\n",
            "No. Observations:                 399   AIC:                             7184.\n",
            "Df Residuals:                     396   BIC:                             7196.\n",
            "Df Model:                           2                                         \n",
            "Covariance Type:            nonrobust                                         \n",
            "==============================================================================\n",
            "                 coef    std err          t      P>|t|      [0.025      0.975]\n",
            "------------------------------------------------------------------------------\n",
            "const       6037.5268    357.252     16.900      0.000    5335.179    6739.874\n",
            "LOS          713.1253     29.739     23.979      0.000     654.658     771.592\n",
            "APRDRG        -8.5846      0.537    -15.991      0.000      -9.640      -7.529\n",
            "==============================================================================\n",
            "Omnibus:                      335.530   Durbin-Watson:                   2.079\n",
            "Prob(Omnibus):                  0.000   Jarque-Bera (JB):             7889.288\n",
            "Skew:                           3.459   Prob(JB):                         0.00\n",
            "Kurtosis:                      23.656   Cond. No.                     2.34e+03\n",
            "==============================================================================\n",
            "\n",
            "Warnings:\n",
            "[1] Standard Errors assume that the covariance matrix of the errors is correctly specified.\n",
            "[2] The condition number is large, 2.34e+03. This might indicate that there are\n",
            "strong multicollinearity or other numerical problems.\n"
          ]
        },
        {
          "output_type": "stream",
          "name": "stderr",
          "text": [
            "/usr/local/lib/python3.7/dist-packages/statsmodels/tsa/tsatools.py:117: FutureWarning: In a future version of pandas all arguments of concat except for the argument 'objs' will be keyword-only\n",
            "  x = pd.concat(x[::order], 1)\n"
          ]
        }
      ]
    },
    {
      "cell_type": "code",
      "source": [
        "# Best 3-features model\n",
        "m3 = SelectKBest(f_regression,k=3)\n",
        "m3.fit(X_train,y_train)\n",
        "m3.get_support()"
      ],
      "metadata": {
        "id": "QIakmZWm-wvQ",
        "colab": {
          "base_uri": "https://localhost:8080/"
        },
        "outputId": "7431fd1f-afd0-4d7a-f1d5-635a83f326d8"
      },
      "execution_count": 128,
      "outputs": [
        {
          "output_type": "stream",
          "name": "stderr",
          "text": [
            "/usr/local/lib/python3.7/dist-packages/sklearn/utils/validation.py:993: DataConversionWarning: A column-vector y was passed when a 1d array was expected. Please change the shape of y to (n_samples, ), for example using ravel().\n",
            "  y = column_or_1d(y, warn=True)\n"
          ]
        },
        {
          "output_type": "execute_result",
          "data": {
            "text/plain": [
              "array([ True,  True,  True])"
            ]
          },
          "metadata": {},
          "execution_count": 128
        }
      ]
    },
    {
      "cell_type": "code",
      "source": [
        "X = hospital_df[['AGE','LOS','APRDRG']]\n",
        "y = hospital_df[['TOTCHG']]\n",
        "X_train3, X_test3, y_train3, y_test3 = train_test_split(X, y, train_size=0.8, random_state = 100)\n",
        "x_train3 = sm.add_constant(X_train3)\n",
        "mlm3 = sm.OLS(y_train3, x_train3)\n",
        "resultlm3 = mlm3.fit()\n",
        "print(resultlm3.summary())"
      ],
      "metadata": {
        "id": "U7LL98ukAJXB",
        "colab": {
          "base_uri": "https://localhost:8080/"
        },
        "outputId": "9d38a5e8-4e42-438b-e20b-36c481348903"
      },
      "execution_count": 129,
      "outputs": [
        {
          "output_type": "stream",
          "name": "stdout",
          "text": [
            "                            OLS Regression Results                            \n",
            "==============================================================================\n",
            "Dep. Variable:                 TOTCHG   R-squared:                       0.734\n",
            "Model:                            OLS   Adj. R-squared:                  0.732\n",
            "Method:                 Least Squares   F-statistic:                     363.6\n",
            "Date:                Fri, 15 Jul 2022   Prob (F-statistic):          3.18e-113\n",
            "Time:                        10:25:36   Log-Likelihood:                -3555.6\n",
            "No. Observations:                 399   AIC:                             7119.\n",
            "Df Residuals:                     395   BIC:                             7135.\n",
            "Df Model:                           3                                         \n",
            "Covariance Type:            nonrobust                                         \n",
            "==============================================================================\n",
            "                 coef    std err          t      P>|t|      [0.025      0.975]\n",
            "------------------------------------------------------------------------------\n",
            "const       5754.3587    330.491     17.412      0.000    5104.616    6404.101\n",
            "AGE          110.4684     12.977      8.512      0.000      84.955     135.982\n",
            "LOS          724.1786     27.403     26.427      0.000     670.305     778.052\n",
            "APRDRG        -9.1331      0.498    -18.329      0.000     -10.113      -8.153\n",
            "==============================================================================\n",
            "Omnibus:                      325.450   Durbin-Watson:                   2.038\n",
            "Prob(Omnibus):                  0.000   Jarque-Bera (JB):             9119.057\n",
            "Skew:                           3.218   Prob(JB):                         0.00\n",
            "Kurtosis:                      25.519   Cond. No.                     2.35e+03\n",
            "==============================================================================\n",
            "\n",
            "Warnings:\n",
            "[1] Standard Errors assume that the covariance matrix of the errors is correctly specified.\n",
            "[2] The condition number is large, 2.35e+03. This might indicate that there are\n",
            "strong multicollinearity or other numerical problems.\n"
          ]
        },
        {
          "output_type": "stream",
          "name": "stderr",
          "text": [
            "/usr/local/lib/python3.7/dist-packages/statsmodels/tsa/tsatools.py:117: FutureWarning: In a future version of pandas all arguments of concat except for the argument 'objs' will be keyword-only\n",
            "  x = pd.concat(x[::order], 1)\n"
          ]
        }
      ]
    },
    {
      "cell_type": "code",
      "source": [
        ""
      ],
      "metadata": {
        "id": "L5lOfukhz22V"
      },
      "execution_count": null,
      "outputs": []
    },
    {
      "cell_type": "markdown",
      "source": [
        "Confidence and Prediction Intervals"
      ],
      "metadata": {
        "id": "V-v5P9FaAW2z"
      }
    },
    {
      "cell_type": "code",
      "source": [
        "X = hospital_df[['AGE', 'LOS', 'APRDRG']]\n",
        "y = hospital_df[['TOTCHG']]\n",
        "X_train, X_test, y_train, y_test = train_test_split(X, y, train_size=0.05, random_state = 100)\n",
        "x_train = sm.add_constant(X_train)\n",
        "model2 = sm.OLS(y_train, x_train)\n",
        "result2 = model2.fit()\n",
        "print(result2.summary())"
      ],
      "metadata": {
        "id": "IWSB8yhDz3HO",
        "colab": {
          "base_uri": "https://localhost:8080/"
        },
        "outputId": "d4552c9a-a899-4f27-c024-23f80422ccf0"
      },
      "execution_count": 130,
      "outputs": [
        {
          "output_type": "stream",
          "name": "stdout",
          "text": [
            "                            OLS Regression Results                            \n",
            "==============================================================================\n",
            "Dep. Variable:                 TOTCHG   R-squared:                       0.819\n",
            "Model:                            OLS   Adj. R-squared:                  0.792\n",
            "Method:                 Least Squares   F-statistic:                     30.18\n",
            "Date:                Fri, 15 Jul 2022   Prob (F-statistic):           1.27e-07\n",
            "Time:                        10:29:14   Log-Likelihood:                -210.93\n",
            "No. Observations:                  24   AIC:                             429.9\n",
            "Df Residuals:                      20   BIC:                             434.6\n",
            "Df Model:                           3                                         \n",
            "Covariance Type:            nonrobust                                         \n",
            "==============================================================================\n",
            "                 coef    std err          t      P>|t|      [0.025      0.975]\n",
            "------------------------------------------------------------------------------\n",
            "const       5715.0996   1267.720      4.508      0.000    3070.682    8359.517\n",
            "AGE          109.7371     57.785      1.899      0.072     -10.801     230.275\n",
            "LOS         1332.4922    225.529      5.908      0.000     862.047    1802.937\n",
            "APRDRG       -11.7486      1.850     -6.352      0.000     -15.607      -7.890\n",
            "==============================================================================\n",
            "Omnibus:                        2.512   Durbin-Watson:                   2.467\n",
            "Prob(Omnibus):                  0.285   Jarque-Bera (JB):                1.068\n",
            "Skew:                          -0.348   Prob(JB):                        0.586\n",
            "Kurtosis:                       3.763   Cond. No.                     2.17e+03\n",
            "==============================================================================\n",
            "\n",
            "Warnings:\n",
            "[1] Standard Errors assume that the covariance matrix of the errors is correctly specified.\n",
            "[2] The condition number is large, 2.17e+03. This might indicate that there are\n",
            "strong multicollinearity or other numerical problems.\n"
          ]
        },
        {
          "output_type": "stream",
          "name": "stderr",
          "text": [
            "/usr/local/lib/python3.7/dist-packages/statsmodels/tsa/tsatools.py:117: FutureWarning: In a future version of pandas all arguments of concat except for the argument 'objs' will be keyword-only\n",
            "  x = pd.concat(x[::order], 1)\n"
          ]
        }
      ]
    },
    {
      "cell_type": "code",
      "source": [
        "predicted = result2.predict()\n",
        "pred = result2.get_prediction()\n",
        "pred_df = pred.summary_frame(alpha=0.1) #95%\n",
        "#pred_df"
      ],
      "metadata": {
        "id": "RST0VFEi0K6y"
      },
      "execution_count": 131,
      "outputs": []
    },
    {
      "cell_type": "code",
      "source": [
        "pred_df.shape"
      ],
      "metadata": {
        "id": "yIh5Ctvo6zTG",
        "colab": {
          "base_uri": "https://localhost:8080/"
        },
        "outputId": "c2589b4d-d183-42c8-9060-d126bf6b91ed"
      },
      "execution_count": 132,
      "outputs": [
        {
          "output_type": "execute_result",
          "data": {
            "text/plain": [
              "(24, 6)"
            ]
          },
          "metadata": {},
          "execution_count": 132
        }
      ]
    },
    {
      "cell_type": "code",
      "source": [
        "pred_df"
      ],
      "metadata": {
        "colab": {
          "base_uri": "https://localhost:8080/",
          "height": 802
        },
        "id": "13yIbNrDaFoy",
        "outputId": "2034c382-a2b7-41f0-f4c9-4cc79c352700"
      },
      "execution_count": 135,
      "outputs": [
        {
          "output_type": "execute_result",
          "data": {
            "text/plain": [
              "             mean      mean_se  mean_ci_lower  mean_ci_upper  obs_ci_lower  \\\n",
              "400   2562.967892   798.979688    1184.953049    3940.982736   -737.408576   \n",
              "58    4231.939803   793.786951    2862.880967    5600.998639    935.292715   \n",
              "316    850.270165   683.801139    -329.094134    2029.634464  -2372.222671   \n",
              "363   9652.904096   798.854131    8275.105803   11030.702389   6352.618039   \n",
              "228    861.011643   457.707221      71.595649    1650.427637  -2240.074866   \n",
              "143   3537.744655   592.160763    2516.434183    4559.055126    369.679787   \n",
              "497    861.011643   457.707221      71.595649    1650.427637  -2240.074866   \n",
              "240   2193.503874   479.024233    1367.322040    3019.685707   -917.144989   \n",
              "290    861.011643   457.707221      71.595649    1650.427637  -2240.074866   \n",
              "14    7841.942505  1096.146224    5951.399116    9732.485893   4296.845295   \n",
              "226   2357.983584   472.576204    1542.922783    3173.044384   -749.730051   \n",
              "66   13675.814439  1184.198313   11633.406004   15718.222873  10047.455011   \n",
              "53    4231.939803   793.786951    2862.880967    5600.998639    935.292715   \n",
              "354    861.011643   457.707221      71.595649    1650.427637  -2240.074866   \n",
              "436    861.011643   457.707221      71.595649    1650.427637  -2240.074866   \n",
              "350   4858.488334   758.010916    3551.133080    6165.843589   1586.984447   \n",
              "394    861.011643   457.707221      71.595649    1650.427637  -2240.074866   \n",
              "432   -471.480587   539.679675   -1402.275967     459.314793  -3611.534721   \n",
              "79     861.011643   457.707221      71.595649    1650.427637  -2240.074866   \n",
              "343   1289.218415   857.479864    -189.692750    2768.129580  -2054.542664   \n",
              "359   -471.480587   539.679675   -1402.275967     459.314793  -3611.534721   \n",
              "323   6292.439819  1016.045210    4540.048110    8044.831528   2819.050030   \n",
              "280   3525.996104   592.586786    2503.950864    4548.041344    357.694288   \n",
              "8      -43.273815   969.344176   -1715.119398    1628.571768  -3476.730904   \n",
              "\n",
              "     obs_ci_upper  \n",
              "400   5863.344361  \n",
              "58    7528.586890  \n",
              "316   4072.763000  \n",
              "363  12953.190153  \n",
              "228   3962.098152  \n",
              "143   6705.809522  \n",
              "497   3962.098152  \n",
              "240   5304.152736  \n",
              "290   3962.098152  \n",
              "14   11387.039715  \n",
              "226   5465.697218  \n",
              "66   17304.173866  \n",
              "53    7528.586890  \n",
              "354   3962.098152  \n",
              "436   3962.098152  \n",
              "350   8129.992222  \n",
              "394   3962.098152  \n",
              "432   2668.573547  \n",
              "79    3962.098152  \n",
              "343   4632.979495  \n",
              "359   2668.573547  \n",
              "323   9765.829608  \n",
              "280   6694.297920  \n",
              "8     3390.183273  "
            ],
            "text/html": [
              "\n",
              "  <div id=\"df-9428a50f-49a1-470e-96bb-2f37a188b0ab\">\n",
              "    <div class=\"colab-df-container\">\n",
              "      <div>\n",
              "<style scoped>\n",
              "    .dataframe tbody tr th:only-of-type {\n",
              "        vertical-align: middle;\n",
              "    }\n",
              "\n",
              "    .dataframe tbody tr th {\n",
              "        vertical-align: top;\n",
              "    }\n",
              "\n",
              "    .dataframe thead th {\n",
              "        text-align: right;\n",
              "    }\n",
              "</style>\n",
              "<table border=\"1\" class=\"dataframe\">\n",
              "  <thead>\n",
              "    <tr style=\"text-align: right;\">\n",
              "      <th></th>\n",
              "      <th>mean</th>\n",
              "      <th>mean_se</th>\n",
              "      <th>mean_ci_lower</th>\n",
              "      <th>mean_ci_upper</th>\n",
              "      <th>obs_ci_lower</th>\n",
              "      <th>obs_ci_upper</th>\n",
              "    </tr>\n",
              "  </thead>\n",
              "  <tbody>\n",
              "    <tr>\n",
              "      <th>400</th>\n",
              "      <td>2562.967892</td>\n",
              "      <td>798.979688</td>\n",
              "      <td>1184.953049</td>\n",
              "      <td>3940.982736</td>\n",
              "      <td>-737.408576</td>\n",
              "      <td>5863.344361</td>\n",
              "    </tr>\n",
              "    <tr>\n",
              "      <th>58</th>\n",
              "      <td>4231.939803</td>\n",
              "      <td>793.786951</td>\n",
              "      <td>2862.880967</td>\n",
              "      <td>5600.998639</td>\n",
              "      <td>935.292715</td>\n",
              "      <td>7528.586890</td>\n",
              "    </tr>\n",
              "    <tr>\n",
              "      <th>316</th>\n",
              "      <td>850.270165</td>\n",
              "      <td>683.801139</td>\n",
              "      <td>-329.094134</td>\n",
              "      <td>2029.634464</td>\n",
              "      <td>-2372.222671</td>\n",
              "      <td>4072.763000</td>\n",
              "    </tr>\n",
              "    <tr>\n",
              "      <th>363</th>\n",
              "      <td>9652.904096</td>\n",
              "      <td>798.854131</td>\n",
              "      <td>8275.105803</td>\n",
              "      <td>11030.702389</td>\n",
              "      <td>6352.618039</td>\n",
              "      <td>12953.190153</td>\n",
              "    </tr>\n",
              "    <tr>\n",
              "      <th>228</th>\n",
              "      <td>861.011643</td>\n",
              "      <td>457.707221</td>\n",
              "      <td>71.595649</td>\n",
              "      <td>1650.427637</td>\n",
              "      <td>-2240.074866</td>\n",
              "      <td>3962.098152</td>\n",
              "    </tr>\n",
              "    <tr>\n",
              "      <th>143</th>\n",
              "      <td>3537.744655</td>\n",
              "      <td>592.160763</td>\n",
              "      <td>2516.434183</td>\n",
              "      <td>4559.055126</td>\n",
              "      <td>369.679787</td>\n",
              "      <td>6705.809522</td>\n",
              "    </tr>\n",
              "    <tr>\n",
              "      <th>497</th>\n",
              "      <td>861.011643</td>\n",
              "      <td>457.707221</td>\n",
              "      <td>71.595649</td>\n",
              "      <td>1650.427637</td>\n",
              "      <td>-2240.074866</td>\n",
              "      <td>3962.098152</td>\n",
              "    </tr>\n",
              "    <tr>\n",
              "      <th>240</th>\n",
              "      <td>2193.503874</td>\n",
              "      <td>479.024233</td>\n",
              "      <td>1367.322040</td>\n",
              "      <td>3019.685707</td>\n",
              "      <td>-917.144989</td>\n",
              "      <td>5304.152736</td>\n",
              "    </tr>\n",
              "    <tr>\n",
              "      <th>290</th>\n",
              "      <td>861.011643</td>\n",
              "      <td>457.707221</td>\n",
              "      <td>71.595649</td>\n",
              "      <td>1650.427637</td>\n",
              "      <td>-2240.074866</td>\n",
              "      <td>3962.098152</td>\n",
              "    </tr>\n",
              "    <tr>\n",
              "      <th>14</th>\n",
              "      <td>7841.942505</td>\n",
              "      <td>1096.146224</td>\n",
              "      <td>5951.399116</td>\n",
              "      <td>9732.485893</td>\n",
              "      <td>4296.845295</td>\n",
              "      <td>11387.039715</td>\n",
              "    </tr>\n",
              "    <tr>\n",
              "      <th>226</th>\n",
              "      <td>2357.983584</td>\n",
              "      <td>472.576204</td>\n",
              "      <td>1542.922783</td>\n",
              "      <td>3173.044384</td>\n",
              "      <td>-749.730051</td>\n",
              "      <td>5465.697218</td>\n",
              "    </tr>\n",
              "    <tr>\n",
              "      <th>66</th>\n",
              "      <td>13675.814439</td>\n",
              "      <td>1184.198313</td>\n",
              "      <td>11633.406004</td>\n",
              "      <td>15718.222873</td>\n",
              "      <td>10047.455011</td>\n",
              "      <td>17304.173866</td>\n",
              "    </tr>\n",
              "    <tr>\n",
              "      <th>53</th>\n",
              "      <td>4231.939803</td>\n",
              "      <td>793.786951</td>\n",
              "      <td>2862.880967</td>\n",
              "      <td>5600.998639</td>\n",
              "      <td>935.292715</td>\n",
              "      <td>7528.586890</td>\n",
              "    </tr>\n",
              "    <tr>\n",
              "      <th>354</th>\n",
              "      <td>861.011643</td>\n",
              "      <td>457.707221</td>\n",
              "      <td>71.595649</td>\n",
              "      <td>1650.427637</td>\n",
              "      <td>-2240.074866</td>\n",
              "      <td>3962.098152</td>\n",
              "    </tr>\n",
              "    <tr>\n",
              "      <th>436</th>\n",
              "      <td>861.011643</td>\n",
              "      <td>457.707221</td>\n",
              "      <td>71.595649</td>\n",
              "      <td>1650.427637</td>\n",
              "      <td>-2240.074866</td>\n",
              "      <td>3962.098152</td>\n",
              "    </tr>\n",
              "    <tr>\n",
              "      <th>350</th>\n",
              "      <td>4858.488334</td>\n",
              "      <td>758.010916</td>\n",
              "      <td>3551.133080</td>\n",
              "      <td>6165.843589</td>\n",
              "      <td>1586.984447</td>\n",
              "      <td>8129.992222</td>\n",
              "    </tr>\n",
              "    <tr>\n",
              "      <th>394</th>\n",
              "      <td>861.011643</td>\n",
              "      <td>457.707221</td>\n",
              "      <td>71.595649</td>\n",
              "      <td>1650.427637</td>\n",
              "      <td>-2240.074866</td>\n",
              "      <td>3962.098152</td>\n",
              "    </tr>\n",
              "    <tr>\n",
              "      <th>432</th>\n",
              "      <td>-471.480587</td>\n",
              "      <td>539.679675</td>\n",
              "      <td>-1402.275967</td>\n",
              "      <td>459.314793</td>\n",
              "      <td>-3611.534721</td>\n",
              "      <td>2668.573547</td>\n",
              "    </tr>\n",
              "    <tr>\n",
              "      <th>79</th>\n",
              "      <td>861.011643</td>\n",
              "      <td>457.707221</td>\n",
              "      <td>71.595649</td>\n",
              "      <td>1650.427637</td>\n",
              "      <td>-2240.074866</td>\n",
              "      <td>3962.098152</td>\n",
              "    </tr>\n",
              "    <tr>\n",
              "      <th>343</th>\n",
              "      <td>1289.218415</td>\n",
              "      <td>857.479864</td>\n",
              "      <td>-189.692750</td>\n",
              "      <td>2768.129580</td>\n",
              "      <td>-2054.542664</td>\n",
              "      <td>4632.979495</td>\n",
              "    </tr>\n",
              "    <tr>\n",
              "      <th>359</th>\n",
              "      <td>-471.480587</td>\n",
              "      <td>539.679675</td>\n",
              "      <td>-1402.275967</td>\n",
              "      <td>459.314793</td>\n",
              "      <td>-3611.534721</td>\n",
              "      <td>2668.573547</td>\n",
              "    </tr>\n",
              "    <tr>\n",
              "      <th>323</th>\n",
              "      <td>6292.439819</td>\n",
              "      <td>1016.045210</td>\n",
              "      <td>4540.048110</td>\n",
              "      <td>8044.831528</td>\n",
              "      <td>2819.050030</td>\n",
              "      <td>9765.829608</td>\n",
              "    </tr>\n",
              "    <tr>\n",
              "      <th>280</th>\n",
              "      <td>3525.996104</td>\n",
              "      <td>592.586786</td>\n",
              "      <td>2503.950864</td>\n",
              "      <td>4548.041344</td>\n",
              "      <td>357.694288</td>\n",
              "      <td>6694.297920</td>\n",
              "    </tr>\n",
              "    <tr>\n",
              "      <th>8</th>\n",
              "      <td>-43.273815</td>\n",
              "      <td>969.344176</td>\n",
              "      <td>-1715.119398</td>\n",
              "      <td>1628.571768</td>\n",
              "      <td>-3476.730904</td>\n",
              "      <td>3390.183273</td>\n",
              "    </tr>\n",
              "  </tbody>\n",
              "</table>\n",
              "</div>\n",
              "      <button class=\"colab-df-convert\" onclick=\"convertToInteractive('df-9428a50f-49a1-470e-96bb-2f37a188b0ab')\"\n",
              "              title=\"Convert this dataframe to an interactive table.\"\n",
              "              style=\"display:none;\">\n",
              "        \n",
              "  <svg xmlns=\"http://www.w3.org/2000/svg\" height=\"24px\"viewBox=\"0 0 24 24\"\n",
              "       width=\"24px\">\n",
              "    <path d=\"M0 0h24v24H0V0z\" fill=\"none\"/>\n",
              "    <path d=\"M18.56 5.44l.94 2.06.94-2.06 2.06-.94-2.06-.94-.94-2.06-.94 2.06-2.06.94zm-11 1L8.5 8.5l.94-2.06 2.06-.94-2.06-.94L8.5 2.5l-.94 2.06-2.06.94zm10 10l.94 2.06.94-2.06 2.06-.94-2.06-.94-.94-2.06-.94 2.06-2.06.94z\"/><path d=\"M17.41 7.96l-1.37-1.37c-.4-.4-.92-.59-1.43-.59-.52 0-1.04.2-1.43.59L10.3 9.45l-7.72 7.72c-.78.78-.78 2.05 0 2.83L4 21.41c.39.39.9.59 1.41.59.51 0 1.02-.2 1.41-.59l7.78-7.78 2.81-2.81c.8-.78.8-2.07 0-2.86zM5.41 20L4 18.59l7.72-7.72 1.47 1.35L5.41 20z\"/>\n",
              "  </svg>\n",
              "      </button>\n",
              "      \n",
              "  <style>\n",
              "    .colab-df-container {\n",
              "      display:flex;\n",
              "      flex-wrap:wrap;\n",
              "      gap: 12px;\n",
              "    }\n",
              "\n",
              "    .colab-df-convert {\n",
              "      background-color: #E8F0FE;\n",
              "      border: none;\n",
              "      border-radius: 50%;\n",
              "      cursor: pointer;\n",
              "      display: none;\n",
              "      fill: #1967D2;\n",
              "      height: 32px;\n",
              "      padding: 0 0 0 0;\n",
              "      width: 32px;\n",
              "    }\n",
              "\n",
              "    .colab-df-convert:hover {\n",
              "      background-color: #E2EBFA;\n",
              "      box-shadow: 0px 1px 2px rgba(60, 64, 67, 0.3), 0px 1px 3px 1px rgba(60, 64, 67, 0.15);\n",
              "      fill: #174EA6;\n",
              "    }\n",
              "\n",
              "    [theme=dark] .colab-df-convert {\n",
              "      background-color: #3B4455;\n",
              "      fill: #D2E3FC;\n",
              "    }\n",
              "\n",
              "    [theme=dark] .colab-df-convert:hover {\n",
              "      background-color: #434B5C;\n",
              "      box-shadow: 0px 1px 3px 1px rgba(0, 0, 0, 0.15);\n",
              "      filter: drop-shadow(0px 1px 2px rgba(0, 0, 0, 0.3));\n",
              "      fill: #FFFFFF;\n",
              "    }\n",
              "  </style>\n",
              "\n",
              "      <script>\n",
              "        const buttonEl =\n",
              "          document.querySelector('#df-9428a50f-49a1-470e-96bb-2f37a188b0ab button.colab-df-convert');\n",
              "        buttonEl.style.display =\n",
              "          google.colab.kernel.accessAllowed ? 'block' : 'none';\n",
              "\n",
              "        async function convertToInteractive(key) {\n",
              "          const element = document.querySelector('#df-9428a50f-49a1-470e-96bb-2f37a188b0ab');\n",
              "          const dataTable =\n",
              "            await google.colab.kernel.invokeFunction('convertToInteractive',\n",
              "                                                     [key], {});\n",
              "          if (!dataTable) return;\n",
              "\n",
              "          const docLinkHtml = 'Like what you see? Visit the ' +\n",
              "            '<a target=\"_blank\" href=https://colab.research.google.com/notebooks/data_table.ipynb>data table notebook</a>'\n",
              "            + ' to learn more about interactive tables.';\n",
              "          element.innerHTML = '';\n",
              "          dataTable['output_type'] = 'display_data';\n",
              "          await google.colab.output.renderOutput(dataTable, element);\n",
              "          const docLink = document.createElement('div');\n",
              "          docLink.innerHTML = docLinkHtml;\n",
              "          element.appendChild(docLink);\n",
              "        }\n",
              "      </script>\n",
              "    </div>\n",
              "  </div>\n",
              "  "
            ]
          },
          "metadata": {},
          "execution_count": 135
        }
      ]
    },
    {
      "cell_type": "code",
      "source": [
        "import matplotlib as mpl\n"
      ],
      "metadata": {
        "id": "RRtdNILF7Euo"
      },
      "execution_count": 133,
      "outputs": []
    },
    {
      "cell_type": "code",
      "source": [
        "n1 = 24\n",
        "\n",
        "plt.figure(figsize=(10, 10))\n",
        "ax = plt.subplot(111)\n",
        "ax.plot(range(n1), y_train, 'o', label = \"True: cost\")\n",
        "ax.plot(range(n1), predicted, '-', lw=2, label = \"Predicted cost\")\n",
        "\n",
        "ax.fill_between(np.arange(n1), pred_df['obs_ci_lower'], pred_df['obs_ci_upper'], alpha=0.2, color='blue')\n",
        "ax.fill_between(np.arange(n1), pred_df['mean_ci_lower'], pred_df['mean_ci_upper'], alpha=0.2, color='red')\n",
        "ax.legend(loc='best');\n",
        "\n",
        "ax.set_ylabel('Cost')\n",
        "plt.savefig('CI_intervals.png')"
      ],
      "metadata": {
        "id": "muOzkMjG0oGT",
        "colab": {
          "base_uri": "https://localhost:8080/",
          "height": 592
        },
        "outputId": "da453f2c-20eb-40e8-be2b-5dc66e9920ed"
      },
      "execution_count": 134,
      "outputs": [
        {
          "output_type": "display_data",
          "data": {
            "text/plain": [
              "<Figure size 720x720 with 1 Axes>"
            ],
            "image/png": "[encoded data removed]"
          },
          "metadata": {
            "needs_background": "light"
          }
        }
      ]
    },
    {
      "cell_type": "code",
      "source": [
        ""
      ],
      "metadata": {
        "id": "_P38Oe7qZ_KY"
      },
      "execution_count": null,
      "outputs": []
    }
  ]
}
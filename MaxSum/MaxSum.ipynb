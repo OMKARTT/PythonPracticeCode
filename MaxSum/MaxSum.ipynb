{
 "cells": [
  {
   "cell_type": "code",
   "execution_count": 1,
   "id": "8bb7eb4d",
   "metadata": {},
   "outputs": [],
   "source": [
    "A=[-2,-6,-8,-4,5,3,10,-25,32]"
   ]
  },
  {
   "cell_type": "code",
   "execution_count": 8,
   "id": "97cdcb76",
   "metadata": {},
   "outputs": [],
   "source": [
    "def sum(a:list,n):\n",
    "    #print(a)\n",
    "    \n",
    "    if n<len(a):\n",
    "        s=sorted(a)\n",
    "        #print(s)\n",
    "        b=s[0:n]\n",
    "        for i in range(len(b)):\n",
    "            s.append(b[i])\n",
    "        max=0\n",
    "        #print(s)\n",
    "        for i in range(0,len(s)-n):\n",
    "            totalsum=0\n",
    "            for j in range(i,i+n):\n",
    "                #print(j)\n",
    "                totalsum=totalsum+s[j]\n",
    "            if max<totalsum:\n",
    "                l=[]\n",
    "                max=totalsum\n",
    "                for k in range(i,i+n):\n",
    "                    l.append(s[k])\n",
    "        print(l)\n",
    "    elif n==len(a):\n",
    "        totalsum=0\n",
    "        for i in range(len(a)):\n",
    "            totalsum=totalsum+a[i]\n",
    "        if totalsum<0:\n",
    "            max='Sum is negative'\n",
    "        else:\n",
    "            max=totalsum\n",
    "    elif n> len(a):\n",
    "        max='Count exceeding number of elements in list'\n",
    "    \n",
    "    return max"
   ]
  },
  {
   "cell_type": "code",
   "execution_count": 9,
   "id": "cc22cd65",
   "metadata": {},
   "outputs": [
    {
     "data": {
      "text/plain": [
       "5"
      ]
     },
     "execution_count": 9,
     "metadata": {},
     "output_type": "execute_result"
    }
   ],
   "source": [
    "sum(A,9)"
   ]
  },
  {
   "cell_type": "code",
   "execution_count": 10,
   "id": "af1c7ec9",
   "metadata": {},
   "outputs": [
    {
     "name": "stdout",
     "output_type": "stream",
     "text": [
      "[5, 10, 32]\n"
     ]
    },
    {
     "data": {
      "text/plain": [
       "47"
      ]
     },
     "execution_count": 10,
     "metadata": {},
     "output_type": "execute_result"
    }
   ],
   "source": [
    "sum(A,3)"
   ]
  },
  {
   "cell_type": "code",
   "execution_count": 11,
   "id": "edd49928",
   "metadata": {},
   "outputs": [
    {
     "name": "stdout",
     "output_type": "stream",
     "text": [
      "[-2, 3, 5, 10, 32]\n"
     ]
    },
    {
     "data": {
      "text/plain": [
       "48"
      ]
     },
     "execution_count": 11,
     "metadata": {},
     "output_type": "execute_result"
    }
   ],
   "source": [
    "sum(A,5)"
   ]
  },
  {
   "cell_type": "code",
   "execution_count": 12,
   "id": "079e3630",
   "metadata": {},
   "outputs": [
    {
     "data": {
      "text/plain": [
       "'Count exceeding number of elements in list'"
      ]
     },
     "execution_count": 12,
     "metadata": {},
     "output_type": "execute_result"
    }
   ],
   "source": [
    "sum(A,11)"
   ]
  },
  {
   "cell_type": "code",
   "execution_count": null,
   "id": "184cc327",
   "metadata": {},
   "outputs": [],
   "source": []
  }
 ],
 "metadata": {
  "kernelspec": {
   "display_name": "Python 3 (ipykernel)",
   "language": "python",
   "name": "python3"
  },
  "language_info": {
   "codemirror_mode": {
    "name": "ipython",
    "version": 3
   },
   "file_extension": ".py",
   "mimetype": "text/x-python",
   "name": "python",
   "nbconvert_exporter": "python",
   "pygments_lexer": "ipython3",
   "version": "3.9.7"
  }
 },
 "nbformat": 4,
 "nbformat_minor": 5
}

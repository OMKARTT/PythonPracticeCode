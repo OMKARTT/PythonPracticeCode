{
 "cells": [
  {
   "cell_type": "code",
   "execution_count": 29,
   "id": "75467a51",
   "metadata": {},
   "outputs": [],
   "source": [
    "import numpy as np\n",
    "from tqdm import tqdm\n"
   ]
  },
  {
   "cell_type": "code",
   "execution_count": 32,
   "id": "86c214be",
   "metadata": {},
   "outputs": [],
   "source": [
    "def monte_carlo(n):\n",
    "    count=0\n",
    "    for _ in tqdm(range(n)):\n",
    "        arr=np.random.uniform(0,2,3)\n",
    "        #print(arr)\n",
    "        med=np.sum(arr)\n",
    "        if med>2.0:\n",
    "            count+=1\n",
    "    return(count/n)"
   ]
  },
  {
   "cell_type": "code",
   "execution_count": 34,
   "id": "07f36b50",
   "metadata": {},
   "outputs": [
    {
     "name": "stderr",
     "output_type": "stream",
     "text": [
      "100%|███████████████████████████████████████████████████████████████████| 10000000/10000000 [03:39<00:00, 45597.47it/s]\n"
     ]
    },
    {
     "data": {
      "text/plain": [
       "0.8331311"
      ]
     },
     "execution_count": 34,
     "metadata": {},
     "output_type": "execute_result"
    }
   ],
   "source": [
    "monte_carlo(10**7)"
   ]
  },
  {
   "cell_type": "code",
   "execution_count": null,
   "id": "1f0635cc",
   "metadata": {},
   "outputs": [],
   "source": []
  }
 ],
 "metadata": {
  "kernelspec": {
   "display_name": "Python 3 (ipykernel)",
   "language": "python",
   "name": "python3"
  },
  "language_info": {
   "codemirror_mode": {
    "name": "ipython",
    "version": 3
   },
   "file_extension": ".py",
   "mimetype": "text/x-python",
   "name": "python",
   "nbconvert_exporter": "python",
   "pygments_lexer": "ipython3",
   "version": "3.9.7"
  }
 },
 "nbformat": 4,
 "nbformat_minor": 5
}
